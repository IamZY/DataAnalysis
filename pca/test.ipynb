{
 "cells": [
  {
   "cell_type": "code",
   "execution_count": 29,
   "metadata": {},
   "outputs": [
    {
     "data": {
      "text/html": [
       "<div>\n",
       "<style scoped>\n",
       "    .dataframe tbody tr th:only-of-type {\n",
       "        vertical-align: middle;\n",
       "    }\n",
       "\n",
       "    .dataframe tbody tr th {\n",
       "        vertical-align: top;\n",
       "    }\n",
       "\n",
       "    .dataframe thead th {\n",
       "        text-align: right;\n",
       "    }\n",
       "</style>\n",
       "<table border=\"1\" class=\"dataframe\">\n",
       "  <thead>\n",
       "    <tr style=\"text-align: right;\">\n",
       "      <th></th>\n",
       "      <th>name</th>\n",
       "      <th>X1</th>\n",
       "      <th>X2</th>\n",
       "      <th>X3</th>\n",
       "      <th>X4</th>\n",
       "      <th>X5</th>\n",
       "      <th>X6</th>\n",
       "      <th>X7</th>\n",
       "      <th>X8</th>\n",
       "      <th>X9</th>\n",
       "      <th>X10</th>\n",
       "    </tr>\n",
       "  </thead>\n",
       "  <tbody>\n",
       "    <tr>\n",
       "      <th>0</th>\n",
       "      <td>中牟县</td>\n",
       "      <td>0.16</td>\n",
       "      <td>52.9</td>\n",
       "      <td>28</td>\n",
       "      <td>5</td>\n",
       "      <td>1.83</td>\n",
       "      <td>0.03</td>\n",
       "      <td>6</td>\n",
       "      <td>1.66</td>\n",
       "      <td>0.56</td>\n",
       "      <td>17969</td>\n",
       "    </tr>\n",
       "    <tr>\n",
       "      <th>1</th>\n",
       "      <td>巩义市</td>\n",
       "      <td>0.15</td>\n",
       "      <td>70.6</td>\n",
       "      <td>44</td>\n",
       "      <td>25</td>\n",
       "      <td>3.71</td>\n",
       "      <td>0.38</td>\n",
       "      <td>11</td>\n",
       "      <td>1.54</td>\n",
       "      <td>0.54</td>\n",
       "      <td>21164</td>\n",
       "    </tr>\n",
       "    <tr>\n",
       "      <th>2</th>\n",
       "      <td>荥阳市</td>\n",
       "      <td>0.15</td>\n",
       "      <td>118.2</td>\n",
       "      <td>45</td>\n",
       "      <td>68</td>\n",
       "      <td>4.61</td>\n",
       "      <td>0.12</td>\n",
       "      <td>21</td>\n",
       "      <td>1.40</td>\n",
       "      <td>0.62</td>\n",
       "      <td>18924</td>\n",
       "    </tr>\n",
       "    <tr>\n",
       "      <th>3</th>\n",
       "      <td>新密市</td>\n",
       "      <td>0.16</td>\n",
       "      <td>79.3</td>\n",
       "      <td>66</td>\n",
       "      <td>50</td>\n",
       "      <td>3.89</td>\n",
       "      <td>0.14</td>\n",
       "      <td>9</td>\n",
       "      <td>1.67</td>\n",
       "      <td>0.44</td>\n",
       "      <td>18865</td>\n",
       "    </tr>\n",
       "    <tr>\n",
       "      <th>4</th>\n",
       "      <td>新郑市</td>\n",
       "      <td>0.14</td>\n",
       "      <td>225.2</td>\n",
       "      <td>53</td>\n",
       "      <td>22</td>\n",
       "      <td>3.34</td>\n",
       "      <td>0.11</td>\n",
       "      <td>7</td>\n",
       "      <td>1.33</td>\n",
       "      <td>0.78</td>\n",
       "      <td>19873</td>\n",
       "    </tr>\n",
       "  </tbody>\n",
       "</table>\n",
       "</div>"
      ],
      "text/plain": [
       "  name    X1     X2  X3  X4    X5    X6  X7    X8    X9    X10\n",
       "0  中牟县  0.16   52.9  28   5  1.83  0.03   6  1.66  0.56  17969\n",
       "1  巩义市  0.15   70.6  44  25  3.71  0.38  11  1.54  0.54  21164\n",
       "2  荥阳市  0.15  118.2  45  68  4.61  0.12  21  1.40  0.62  18924\n",
       "3  新密市  0.16   79.3  66  50  3.89  0.14   9  1.67  0.44  18865\n",
       "4  新郑市  0.14  225.2  53  22  3.34  0.11   7  1.33  0.78  19873"
      ]
     },
     "execution_count": 29,
     "metadata": {},
     "output_type": "execute_result"
    }
   ],
   "source": [
    "import pandas as pd\n",
    "import numpy as np\n",
    "\n",
    "\n",
    "df = pd.read_csv('2017mpi.csv',encoding='gb2312')\n",
    "df.head()"
   ]
  },
  {
   "cell_type": "code",
   "execution_count": 30,
   "metadata": {},
   "outputs": [
    {
     "data": {
      "text/plain": [
       "array([[1.6000e-01, 5.2900e+01, 2.8000e+01, ..., 1.6600e+00, 5.6000e-01,\n",
       "        1.7969e+04],\n",
       "       [1.5000e-01, 7.0600e+01, 4.4000e+01, ..., 1.5400e+00, 5.4000e-01,\n",
       "        2.1164e+04],\n",
       "       [1.5000e-01, 1.1820e+02, 4.5000e+01, ..., 1.4000e+00, 6.2000e-01,\n",
       "        1.8924e+04],\n",
       "       ...,\n",
       "       [2.2000e-01, 5.7200e+01, 3.6000e+01, ..., 5.3000e+00, 3.6000e-01,\n",
       "        1.0984e+04],\n",
       "       [2.1000e-01, 8.6400e+01, 7.0000e+01, ..., 3.5500e+00, 6.1000e-01,\n",
       "        1.1494e+04],\n",
       "       [1.8000e-01, 1.1620e+02, 3.6000e+01, ..., 7.3300e+00, 3.3000e-01,\n",
       "        1.1159e+04]])"
      ]
     },
     "execution_count": 30,
     "metadata": {},
     "output_type": "execute_result"
    }
   ],
   "source": [
    "X = df.iloc[:,1:11].values\n",
    "y = df.iloc[:,10].values\n",
    "\n",
    "X"
   ]
  },
  {
   "cell_type": "code",
   "execution_count": 31,
   "metadata": {},
   "outputs": [
    {
     "data": {
      "text/plain": [
       "array([[-1.37085692, -0.55523634, -1.42157993, ..., -1.19255639,\n",
       "         0.440319  ,  1.80225608],\n",
       "       [-1.66948758,  0.12454412, -0.23575357, ..., -1.25330762,\n",
       "         0.32252666,  2.94403923],\n",
       "       [-1.66948758,  1.95265429, -0.16163943, ..., -1.32418407,\n",
       "         0.79369604,  2.14354024],\n",
       "       ...,\n",
       "       [ 0.42092702, -0.39009194, -0.82866675, ...,  0.65023108,\n",
       "        -0.73760445, -0.69394277],\n",
       "       [ 0.12229636,  0.7313538 ,  1.69121425, ..., -0.23572444,\n",
       "         0.73479987, -0.5116863 ],\n",
       "       [-0.77359561,  1.87584293, -0.82866675, ...,  1.67793947,\n",
       "        -0.91429296, -0.63140378]])"
      ]
     },
     "execution_count": 31,
     "metadata": {},
     "output_type": "execute_result"
    }
   ],
   "source": [
    "from sklearn.preprocessing import StandardScaler\n",
    "X_std = StandardScaler().fit_transform(X)\n",
    "X_std"
   ]
  },
  {
   "cell_type": "code",
   "execution_count": 32,
   "metadata": {},
   "outputs": [
    {
     "name": "stdout",
     "output_type": "stream",
     "text": [
      "协方差矩阵 \n",
      "[[ 1.00961538  0.02614264 -0.10092091  0.16209674 -0.16774379  0.02188707\n",
      "  -0.06447035  0.05312057 -0.09022007 -0.17677953]\n",
      " [ 0.02614264  1.00961538  0.02265667  0.09286939  0.40960236  0.02477471\n",
      "   0.17946453 -0.16604752  0.06386863  0.26934403]\n",
      " [-0.10092091  0.02265667  1.00961538 -0.0573115   0.19741365  0.07884608\n",
      "   0.20040312 -0.34135741  0.25451738  0.15046999]\n",
      " [ 0.16209674  0.09286939 -0.0573115   1.00961538  0.13488148  0.01938705\n",
      "  -0.019538    0.06009375 -0.17168312 -0.11272171]\n",
      " [-0.16774379  0.40960236  0.19741365  0.13488148  1.00961538  0.20275623\n",
      "   0.37646862 -0.56991703  0.27661376  0.62971149]\n",
      " [ 0.02188707  0.02477471  0.07884608  0.01938705  0.20275623  1.00961538\n",
      "   0.38109074 -0.3279675   0.143827    0.38708525]\n",
      " [-0.06447035  0.17946453  0.20040312 -0.019538    0.37646862  0.38109074\n",
      "   1.00961538 -0.37835547  0.2464244   0.46523894]\n",
      " [ 0.05312057 -0.16604752 -0.34135741  0.06009375 -0.56991703 -0.3279675\n",
      "  -0.37835547  1.00961538 -0.5107872  -0.67592863]\n",
      " [-0.09022007  0.06386863  0.25451738 -0.17168312  0.27661376  0.143827\n",
      "   0.2464244  -0.5107872   1.00961538  0.48521888]\n",
      " [-0.17677953  0.26934403  0.15046999 -0.11272171  0.62971149  0.38708525\n",
      "   0.46523894 -0.67592863  0.48521888  1.00961538]]\n"
     ]
    }
   ],
   "source": [
    "mean_vec = np.mean(X_std, axis=0)\n",
    "cov_mat = (X_std - mean_vec).T.dot((X_std - mean_vec)) / (X_std.shape[0]-1)\n",
    "print('协方差矩阵 \\n%s' %cov_mat)  # 对角线接近1  +代表正相关 -代表负相关"
   ]
  },
  {
   "cell_type": "code",
   "execution_count": 33,
   "metadata": {},
   "outputs": [
    {
     "name": "stdout",
     "output_type": "stream",
     "text": [
      "NumPy 计算协方差矩阵: \n",
      "[[ 1.00961538  0.02614264 -0.10092091  0.16209674 -0.16774379  0.02188707\n",
      "  -0.06447035  0.05312057 -0.09022007 -0.17677953]\n",
      " [ 0.02614264  1.00961538  0.02265667  0.09286939  0.40960236  0.02477471\n",
      "   0.17946453 -0.16604752  0.06386863  0.26934403]\n",
      " [-0.10092091  0.02265667  1.00961538 -0.0573115   0.19741365  0.07884608\n",
      "   0.20040312 -0.34135741  0.25451738  0.15046999]\n",
      " [ 0.16209674  0.09286939 -0.0573115   1.00961538  0.13488148  0.01938705\n",
      "  -0.019538    0.06009375 -0.17168312 -0.11272171]\n",
      " [-0.16774379  0.40960236  0.19741365  0.13488148  1.00961538  0.20275623\n",
      "   0.37646862 -0.56991703  0.27661376  0.62971149]\n",
      " [ 0.02188707  0.02477471  0.07884608  0.01938705  0.20275623  1.00961538\n",
      "   0.38109074 -0.3279675   0.143827    0.38708525]\n",
      " [-0.06447035  0.17946453  0.20040312 -0.019538    0.37646862  0.38109074\n",
      "   1.00961538 -0.37835547  0.2464244   0.46523894]\n",
      " [ 0.05312057 -0.16604752 -0.34135741  0.06009375 -0.56991703 -0.3279675\n",
      "  -0.37835547  1.00961538 -0.5107872  -0.67592863]\n",
      " [-0.09022007  0.06386863  0.25451738 -0.17168312  0.27661376  0.143827\n",
      "   0.2464244  -0.5107872   1.00961538  0.48521888]\n",
      " [-0.17677953  0.26934403  0.15046999 -0.11272171  0.62971149  0.38708525\n",
      "   0.46523894 -0.67592863  0.48521888  1.00961538]]\n"
     ]
    }
   ],
   "source": [
    "print('NumPy 计算协方差矩阵: \\n%s' %np.cov(X_std.T))"
   ]
  },
  {
   "cell_type": "code",
   "execution_count": 34,
   "metadata": {},
   "outputs": [
    {
     "name": "stdout",
     "output_type": "stream",
     "text": [
      "特征向量 \n",
      "[[ 0.10567643  0.37115791 -0.07443507 -0.16171865 -0.51847388  0.40943433\n",
      "  -0.55873547  0.13347883 -0.22996634 -0.0065356 ]\n",
      " [-0.19720069  0.46472592  0.02296323  0.19317778  0.45739578 -0.03367189\n",
      "  -0.29975631  0.46214486  0.41758319  0.13836403]\n",
      " [-0.21428938 -0.25942875 -0.19017896 -0.09675876  0.01304354  0.67905035\n",
      "   0.40591635  0.42213714  0.04547675  0.18689838]\n",
      " [ 0.04057721  0.6285638  -0.12363542  0.13580883 -0.04911845  0.27882961\n",
      "   0.45563258 -0.44910795  0.22209786 -0.17534608]\n",
      " [-0.41421248  0.2632884   0.32172575 -0.62587122  0.29606794 -0.00520602\n",
      "   0.07873454 -0.13037174 -0.37619651  0.10715384]\n",
      " [-0.26318177  0.09014746  0.12857006 -0.13535086 -0.60443279 -0.34568355\n",
      "   0.20293185  0.08053615  0.3657147   0.47064627]\n",
      " [-0.34900741  0.08233959  0.08539318  0.07893288 -0.24551807 -0.19872511\n",
      "   0.19189511  0.41046224 -0.11803942 -0.73408756]\n",
      " [ 0.45289399  0.05897884 -0.36855424 -0.66436591  0.07076786 -0.19038866\n",
      "   0.09828735  0.21352511  0.28196712 -0.19539571]\n",
      " [-0.33479688 -0.31007425  0.12985186 -0.22441049 -0.02203223  0.24584555\n",
      "  -0.33638554 -0.34603955  0.57433241 -0.31758725]\n",
      " [-0.47173427 -0.00491806 -0.81391333  0.02675758  0.02496645 -0.1914958\n",
      "  -0.13627866 -0.17722687 -0.15091928  0.06496064]]\n",
      "\n",
      "特征值 \n",
      "[3.34624458 1.34558027 0.26152969 0.30475718 1.09265049 0.96922956\n",
      " 0.89582526 0.76794235 0.52741878 0.58497568]\n"
     ]
    }
   ],
   "source": [
    "cov_mat = np.cov(X_std.T)\n",
    "\n",
    "eig_vals, eig_vecs = np.linalg.eig(cov_mat)\n",
    "\n",
    "print('特征向量 \\n%s' %eig_vecs)  # 特征值越大 对应的特征向量越重要\n",
    "print('\\n特征值 \\n%s' %eig_vals)"
   ]
  },
  {
   "cell_type": "code",
   "execution_count": 35,
   "metadata": {},
   "outputs": [
    {
     "name": "stdout",
     "output_type": "stream",
     "text": [
      "[(3.346244581736574, array([ 0.10567643, -0.19720069, -0.21428938,  0.04057721, -0.41421248,\n",
      "       -0.26318177, -0.34900741,  0.45289399, -0.33479688, -0.47173427])), (1.3455802731314486, array([ 0.37115791,  0.46472592, -0.25942875,  0.6285638 ,  0.2632884 ,\n",
      "        0.09014746,  0.08233959,  0.05897884, -0.31007425, -0.00491806])), (0.26152969043062585, array([-0.07443507,  0.02296323, -0.19017896, -0.12363542,  0.32172575,\n",
      "        0.12857006,  0.08539318, -0.36855424,  0.12985186, -0.81391333])), (0.30475717863416396, array([-0.16171865,  0.19317778, -0.09675876,  0.13580883, -0.62587122,\n",
      "       -0.13535086,  0.07893288, -0.66436591, -0.22441049,  0.02675758])), (1.0926504932754655, array([-0.51847388,  0.45739578,  0.01304354, -0.04911845,  0.29606794,\n",
      "       -0.60443279, -0.24551807,  0.07076786, -0.02203223,  0.02496645])), (0.9692295611296299, array([ 0.40943433, -0.03367189,  0.67905035,  0.27882961, -0.00520602,\n",
      "       -0.34568355, -0.19872511, -0.19038866,  0.24584555, -0.1914958 ])), (0.8958252591963131, array([-0.55873547, -0.29975631,  0.40591635,  0.45563258,  0.07873454,\n",
      "        0.20293185,  0.19189511,  0.09828735, -0.33638554, -0.13627866])), (0.7679423458552799, array([ 0.13347883,  0.46214486,  0.42213714, -0.44910795, -0.13037174,\n",
      "        0.08053615,  0.41046224,  0.21352511, -0.34603955, -0.17722687])), (0.5274187794080283, array([-0.22996634,  0.41758319,  0.04547675,  0.22209786, -0.37619651,\n",
      "        0.3657147 , -0.11803942,  0.28196712,  0.57433241, -0.15091928])), (0.5849756833563169, array([-0.0065356 ,  0.13836403,  0.18689838, -0.17534608,  0.10715384,\n",
      "        0.47064627, -0.73408756, -0.19539571, -0.31758725,  0.06496064]))]\n",
      "----------\n"
     ]
    }
   ],
   "source": [
    "# 把特征值和特征向量对应起来\n",
    "eig_pairs = [(np.abs(eig_vals[i]), eig_vecs[:,i]) for i in range(len(eig_vals))]\n",
    "print (eig_pairs)\n",
    "print ('----------')\n",
    "# # 把它们按照特征值大小进行排序\n",
    "# eig_pairs.sort(key=lambda x: x[0], reverse=True)\n",
    "\n",
    "# # 打印排序结果\n",
    "# print('特征值又大到小排序结果:')\n",
    "# for i in eig_pairs:\n",
    "#     print(i[0])"
   ]
  },
  {
   "cell_type": "code",
   "execution_count": 36,
   "metadata": {},
   "outputs": [
    {
     "name": "stdout",
     "output_type": "stream",
     "text": [
      "10.096153846153847\n",
      "------------------------------------------\n",
      "[33.143755857200354, 13.32765222911149, 2.590389314741437, 3.018547293138386, 10.822442981014134, 9.599988034045857, 8.8729359006111, 7.606286092280867, 5.22395743413666, 5.7940448637197095]\n"
     ]
    },
    {
     "data": {
      "text/plain": [
       "array([ 33.14375586,  46.47140809,  49.0617974 ,  52.08034469,\n",
       "        62.90278768,  72.50277571,  81.37571161,  88.9819977 ,\n",
       "        94.20595514, 100.        ])"
      ]
     },
     "execution_count": 36,
     "metadata": {},
     "output_type": "execute_result"
    }
   ],
   "source": [
    "# 计算累加结果\n",
    "tot = sum(eig_vals)\n",
    "print(tot)\n",
    "print(\"------------------------------------------\")\n",
    "# var_exp = [(i / tot)*100 for i in sorted(eig_vals, reverse=True)]\n",
    "var_exp = [(i / tot)*100 for i in eig_vals]\n",
    "\n",
    "print (var_exp)\n",
    "cum_var_exp = np.cumsum(var_exp)\n",
    "cum_var_exp"
   ]
  },
  {
   "cell_type": "code",
   "execution_count": 37,
   "metadata": {},
   "outputs": [
    {
     "data": {
      "image/png": "[encoded data removed]",
      "text/plain": [
       "<Figure size 432x288 with 1 Axes>"
      ]
     },
     "metadata": {
      "needs_background": "light"
     },
     "output_type": "display_data"
    }
   ],
   "source": [
    "from matplotlib import pyplot as plt\n",
    "plt.figure(figsize=(6, 4))\n",
    "\n",
    "plt.bar(range(10), var_exp, alpha=0.5, align='center',\n",
    "            label='individual explained variance')\n",
    "plt.step(range(10), cum_var_exp, where='mid',\n",
    "             label='cumulative explained variance')\n",
    "plt.ylabel('Explained variance ratio')\n",
    "plt.xlabel('Principal components')\n",
    "plt.legend(loc='best')\n",
    "plt.tight_layout()\n",
    "plt.show()"
   ]
  },
  {
   "cell_type": "code",
   "execution_count": null,
   "metadata": {},
   "outputs": [],
   "source": []
  }
 ],
 "metadata": {
  "kernelspec": {
   "display_name": "Python 3",
   "language": "python",
   "name": "python3"
  },
  "language_info": {
   "codemirror_mode": {
    "name": "ipython",
    "version": 3
   },
   "file_extension": ".py",
   "mimetype": "text/x-python",
   "name": "python",
   "nbconvert_exporter": "python",
   "pygments_lexer": "ipython3",
   "version": "3.7.0"
  }
 },
 "nbformat": 4,
 "nbformat_minor": 2
}
