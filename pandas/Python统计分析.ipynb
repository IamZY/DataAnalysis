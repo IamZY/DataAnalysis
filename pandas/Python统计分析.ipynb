{
 "cells": [
  {
   "cell_type": "code",
   "execution_count": 1,
   "metadata": {},
   "outputs": [],
   "source": [
    "import pandas as pd\n",
    "import scipy.stats as ss\n",
    "import matplotlib\n",
    "%matplotlib inline\n",
    "\n",
    "matplotlib.rcParams[\"font.sans-serif\"] = [\"SimHei\"]"
   ]
  },
  {
   "cell_type": "code",
   "execution_count": 2,
   "metadata": {},
   "outputs": [
    {
     "data": {
      "text/html": [
       "<div>\n",
       "<style scoped>\n",
       "    .dataframe tbody tr th:only-of-type {\n",
       "        vertical-align: middle;\n",
       "    }\n",
       "\n",
       "    .dataframe tbody tr th {\n",
       "        vertical-align: top;\n",
       "    }\n",
       "\n",
       "    .dataframe thead th {\n",
       "        text-align: right;\n",
       "    }\n",
       "</style>\n",
       "<table border=\"1\" class=\"dataframe\">\n",
       "  <thead>\n",
       "    <tr style=\"text-align: right;\">\n",
       "      <th></th>\n",
       "      <th>time</th>\n",
       "      <th>id</th>\n",
       "      <th>s0</th>\n",
       "      <th>s2</th>\n",
       "      <th>s3</th>\n",
       "      <th>s4</th>\n",
       "      <th>s5</th>\n",
       "      <th>s7</th>\n",
       "      <th>s9</th>\n",
       "      <th>c0_1</th>\n",
       "      <th>...</th>\n",
       "      <th>Qs9</th>\n",
       "      <th>Qa3</th>\n",
       "      <th>Qa4</th>\n",
       "      <th>Qa8</th>\n",
       "      <th>Qa9</th>\n",
       "      <th>Qa10</th>\n",
       "      <th>Qa16</th>\n",
       "      <th>index1</th>\n",
       "      <th>index1a</th>\n",
       "      <th>index1b</th>\n",
       "    </tr>\n",
       "  </thead>\n",
       "  <tbody>\n",
       "    <tr>\n",
       "      <th>0</th>\n",
       "      <td>200704</td>\n",
       "      <td>1</td>\n",
       "      <td>北京</td>\n",
       "      <td>男</td>\n",
       "      <td>20</td>\n",
       "      <td>本科</td>\n",
       "      <td>公司普通职员（白领）</td>\n",
       "      <td>未婚</td>\n",
       "      <td>2000-2999元</td>\n",
       "      <td>0</td>\n",
       "      <td>...</td>\n",
       "      <td>2500.0</td>\n",
       "      <td>100</td>\n",
       "      <td>200</td>\n",
       "      <td>200</td>\n",
       "      <td>200</td>\n",
       "      <td>100</td>\n",
       "      <td>100</td>\n",
       "      <td>109.349371</td>\n",
       "      <td>88.035919</td>\n",
       "      <td>121.071238</td>\n",
       "    </tr>\n",
       "    <tr>\n",
       "      <th>1</th>\n",
       "      <td>200704</td>\n",
       "      <td>2</td>\n",
       "      <td>北京</td>\n",
       "      <td>男</td>\n",
       "      <td>24</td>\n",
       "      <td>高中/中专</td>\n",
       "      <td>公司普通职员（白领）</td>\n",
       "      <td>未婚</td>\n",
       "      <td>6000-7999元</td>\n",
       "      <td>0</td>\n",
       "      <td>...</td>\n",
       "      <td>7000.0</td>\n",
       "      <td>100</td>\n",
       "      <td>100</td>\n",
       "      <td>100</td>\n",
       "      <td>150</td>\n",
       "      <td>200</td>\n",
       "      <td>100</td>\n",
       "      <td>93.728032</td>\n",
       "      <td>88.035919</td>\n",
       "      <td>96.856991</td>\n",
       "    </tr>\n",
       "    <tr>\n",
       "      <th>2</th>\n",
       "      <td>200704</td>\n",
       "      <td>3</td>\n",
       "      <td>上海</td>\n",
       "      <td>男</td>\n",
       "      <td>20</td>\n",
       "      <td>高中/中专</td>\n",
       "      <td>无业/待业/失业/家庭主妇</td>\n",
       "      <td>未婚</td>\n",
       "      <td>1000-1499元</td>\n",
       "      <td>0</td>\n",
       "      <td>...</td>\n",
       "      <td>1250.0</td>\n",
       "      <td>100</td>\n",
       "      <td>150</td>\n",
       "      <td>150</td>\n",
       "      <td>100</td>\n",
       "      <td>100</td>\n",
       "      <td>100</td>\n",
       "      <td>93.728032</td>\n",
       "      <td>88.035919</td>\n",
       "      <td>96.856991</td>\n",
       "    </tr>\n",
       "    <tr>\n",
       "      <th>3</th>\n",
       "      <td>200704</td>\n",
       "      <td>4</td>\n",
       "      <td>北京</td>\n",
       "      <td>女</td>\n",
       "      <td>65</td>\n",
       "      <td>大专</td>\n",
       "      <td>企/事业管理人员</td>\n",
       "      <td>已婚</td>\n",
       "      <td>1000-1499元</td>\n",
       "      <td>0</td>\n",
       "      <td>...</td>\n",
       "      <td>1250.0</td>\n",
       "      <td>150</td>\n",
       "      <td>150</td>\n",
       "      <td>100</td>\n",
       "      <td>100</td>\n",
       "      <td>100</td>\n",
       "      <td>200</td>\n",
       "      <td>109.349371</td>\n",
       "      <td>154.062858</td>\n",
       "      <td>84.749867</td>\n",
       "    </tr>\n",
       "    <tr>\n",
       "      <th>4</th>\n",
       "      <td>200704</td>\n",
       "      <td>5</td>\n",
       "      <td>上海</td>\n",
       "      <td>女</td>\n",
       "      <td>40</td>\n",
       "      <td>高中/中专</td>\n",
       "      <td>公司普通职员（白领）</td>\n",
       "      <td>已婚</td>\n",
       "      <td>99拒绝回答</td>\n",
       "      <td>0</td>\n",
       "      <td>...</td>\n",
       "      <td>NaN</td>\n",
       "      <td>100</td>\n",
       "      <td>100</td>\n",
       "      <td>100</td>\n",
       "      <td>100</td>\n",
       "      <td>150</td>\n",
       "      <td>100</td>\n",
       "      <td>85.917363</td>\n",
       "      <td>88.035919</td>\n",
       "      <td>84.749867</td>\n",
       "    </tr>\n",
       "  </tbody>\n",
       "</table>\n",
       "<p>5 rows × 32 columns</p>\n",
       "</div>"
      ],
      "text/plain": [
       "     time  id  s0 s2  s3     s4             s5  s7          s9 c0_1  ...  \\\n",
       "0  200704   1  北京  男  20     本科     公司普通职员（白领）  未婚  2000-2999元    0  ...   \n",
       "1  200704   2  北京  男  24  高中/中专     公司普通职员（白领）  未婚  6000-7999元    0  ...   \n",
       "2  200704   3  上海  男  20  高中/中专  无业/待业/失业/家庭主妇  未婚  1000-1499元    0  ...   \n",
       "3  200704   4  北京  女  65     大专       企/事业管理人员  已婚  1000-1499元    0  ...   \n",
       "4  200704   5  上海  女  40  高中/中专     公司普通职员（白领）  已婚      99拒绝回答    0  ...   \n",
       "\n",
       "      Qs9  Qa3  Qa4  Qa8  Qa9 Qa10  Qa16      index1     index1a     index1b  \n",
       "0  2500.0  100  200  200  200  100   100  109.349371   88.035919  121.071238  \n",
       "1  7000.0  100  100  100  150  200   100   93.728032   88.035919   96.856991  \n",
       "2  1250.0  100  150  150  100  100   100   93.728032   88.035919   96.856991  \n",
       "3  1250.0  150  150  100  100  100   200  109.349371  154.062858   84.749867  \n",
       "4     NaN  100  100  100  100  150   100   85.917363   88.035919   84.749867  \n",
       "\n",
       "[5 rows x 32 columns]"
      ]
     },
     "execution_count": 2,
     "metadata": {},
     "output_type": "execute_result"
    }
   ],
   "source": [
    "ccss = pd.read_excel(\"CCSS_sample.xlsx\",sheet_name = \"CCSS\")\n",
    "ccss.head()"
   ]
  },
  {
   "cell_type": "code",
   "execution_count": 3,
   "metadata": {},
   "outputs": [
    {
     "data": {
      "text/plain": [
       "36.358326068003485"
      ]
     },
     "execution_count": 3,
     "metadata": {},
     "output_type": "execute_result"
    }
   ],
   "source": [
    "ccss.s3.mean()"
   ]
  },
  {
   "cell_type": "code",
   "execution_count": 4,
   "metadata": {},
   "outputs": [
    {
     "data": {
      "text/plain": [
       "s0\n",
       "上海    37.759690\n",
       "北京    36.431217\n",
       "广州    34.866492\n",
       "Name: s3, dtype: float64"
      ]
     },
     "execution_count": 4,
     "metadata": {},
     "output_type": "execute_result"
    }
   ],
   "source": [
    "ccss.groupby(\"s0\").s3.mean()"
   ]
  },
  {
   "cell_type": "code",
   "execution_count": 5,
   "metadata": {},
   "outputs": [
    {
     "data": {
      "text/html": [
       "<div>\n",
       "<style scoped>\n",
       "    .dataframe tbody tr th:only-of-type {\n",
       "        vertical-align: middle;\n",
       "    }\n",
       "\n",
       "    .dataframe tbody tr th {\n",
       "        vertical-align: top;\n",
       "    }\n",
       "\n",
       "    .dataframe thead th {\n",
       "        text-align: right;\n",
       "    }\n",
       "</style>\n",
       "<table border=\"1\" class=\"dataframe\">\n",
       "  <thead>\n",
       "    <tr style=\"text-align: right;\">\n",
       "      <th></th>\n",
       "      <th>s3</th>\n",
       "      <th>index1</th>\n",
       "    </tr>\n",
       "    <tr>\n",
       "      <th>s0</th>\n",
       "      <th></th>\n",
       "      <th></th>\n",
       "    </tr>\n",
       "  </thead>\n",
       "  <tbody>\n",
       "    <tr>\n",
       "      <th>上海</th>\n",
       "      <td>37.759690</td>\n",
       "      <td>94.676615</td>\n",
       "    </tr>\n",
       "    <tr>\n",
       "      <th>北京</th>\n",
       "      <td>36.431217</td>\n",
       "      <td>97.592041</td>\n",
       "    </tr>\n",
       "    <tr>\n",
       "      <th>广州</th>\n",
       "      <td>34.866492</td>\n",
       "      <td>95.445562</td>\n",
       "    </tr>\n",
       "  </tbody>\n",
       "</table>\n",
       "</div>"
      ],
      "text/plain": [
       "           s3     index1\n",
       "s0                      \n",
       "上海  37.759690  94.676615\n",
       "北京  36.431217  97.592041\n",
       "广州  34.866492  95.445562"
      ]
     },
     "execution_count": 5,
     "metadata": {},
     "output_type": "execute_result"
    }
   ],
   "source": [
    "ccss.groupby(\"s0\")[\"s3\",\"index1\"].mean()"
   ]
  },
  {
   "cell_type": "code",
   "execution_count": 6,
   "metadata": {},
   "outputs": [
    {
     "data": {
      "text/plain": [
       "<matplotlib.axes._subplots.AxesSubplot at 0x1d89ce06160>"
      ]
     },
     "execution_count": 6,
     "metadata": {},
     "output_type": "execute_result"
    },
    {
     "data": {
      "image/png": "[encoded data removed]",
      "text/plain": [
       "<Figure size 432x288 with 1 Axes>"
      ]
     },
     "metadata": {
      "needs_background": "light"
     },
     "output_type": "display_data"
    }
   ],
   "source": [
    "ccss.s3.plot.hist()"
   ]
  },
  {
   "cell_type": "code",
   "execution_count": 7,
   "metadata": {},
   "outputs": [
    {
     "data": {
      "text/plain": [
       "<matplotlib.axes._subplots.AxesSubplot at 0x1d89cdf8390>"
      ]
     },
     "execution_count": 7,
     "metadata": {},
     "output_type": "execute_result"
    },
    {
     "data": {
      "image/png": "[encoded data removed]",
      "text/plain": [
       "<Figure size 432x288 with 1 Axes>"
      ]
     },
     "metadata": {
      "needs_background": "light"
     },
     "output_type": "display_data"
    }
   ],
   "source": [
    "ccss.s3.plot.box()"
   ]
  },
  {
   "cell_type": "code",
   "execution_count": 8,
   "metadata": {},
   "outputs": [
    {
     "data": {
      "text/html": [
       "<div>\n",
       "<style scoped>\n",
       "    .dataframe tbody tr th:only-of-type {\n",
       "        vertical-align: middle;\n",
       "    }\n",
       "\n",
       "    .dataframe tbody tr th {\n",
       "        vertical-align: top;\n",
       "    }\n",
       "\n",
       "    .dataframe thead th {\n",
       "        text-align: right;\n",
       "    }\n",
       "</style>\n",
       "<table border=\"1\" class=\"dataframe\">\n",
       "  <thead>\n",
       "    <tr style=\"text-align: right;\">\n",
       "      <th></th>\n",
       "      <th>time</th>\n",
       "      <th>id</th>\n",
       "      <th>s3</th>\n",
       "      <th>a4</th>\n",
       "      <th>a8</th>\n",
       "      <th>a9</th>\n",
       "      <th>a10</th>\n",
       "      <th>a16</th>\n",
       "      <th>Qs9</th>\n",
       "      <th>Qa3</th>\n",
       "      <th>Qa4</th>\n",
       "      <th>Qa8</th>\n",
       "      <th>Qa9</th>\n",
       "      <th>Qa10</th>\n",
       "      <th>Qa16</th>\n",
       "      <th>index1</th>\n",
       "      <th>index1a</th>\n",
       "      <th>index1b</th>\n",
       "    </tr>\n",
       "  </thead>\n",
       "  <tbody>\n",
       "    <tr>\n",
       "      <th>count</th>\n",
       "      <td>1147.000000</td>\n",
       "      <td>1147.000000</td>\n",
       "      <td>1147.000000</td>\n",
       "      <td>1147.000000</td>\n",
       "      <td>1147.000000</td>\n",
       "      <td>1147.000000</td>\n",
       "      <td>1147.000000</td>\n",
       "      <td>1147.000000</td>\n",
       "      <td>992.000000</td>\n",
       "      <td>1147.000000</td>\n",
       "      <td>1147.000000</td>\n",
       "      <td>1147.000000</td>\n",
       "      <td>1147.000000</td>\n",
       "      <td>1147.000000</td>\n",
       "      <td>1147.000000</td>\n",
       "      <td>1147.000000</td>\n",
       "      <td>1147.000000</td>\n",
       "      <td>1147.000000</td>\n",
       "    </tr>\n",
       "    <tr>\n",
       "      <th>mean</th>\n",
       "      <td>200778.085440</td>\n",
       "      <td>192.285092</td>\n",
       "      <td>36.358326</td>\n",
       "      <td>3.379250</td>\n",
       "      <td>3.250218</td>\n",
       "      <td>3.762860</td>\n",
       "      <td>3.326940</td>\n",
       "      <td>3.387969</td>\n",
       "      <td>7543.346774</td>\n",
       "      <td>117.088056</td>\n",
       "      <td>124.716652</td>\n",
       "      <td>122.798605</td>\n",
       "      <td>98.474281</td>\n",
       "      <td>140.932868</td>\n",
       "      <td>108.326068</td>\n",
       "      <td>95.893501</td>\n",
       "      <td>99.222697</td>\n",
       "      <td>94.059791</td>\n",
       "    </tr>\n",
       "    <tr>\n",
       "      <th>std</th>\n",
       "      <td>81.488785</td>\n",
       "      <td>258.900612</td>\n",
       "      <td>12.860567</td>\n",
       "      <td>2.479942</td>\n",
       "      <td>2.238250</td>\n",
       "      <td>2.202152</td>\n",
       "      <td>2.887416</td>\n",
       "      <td>1.917667</td>\n",
       "      <td>6987.619590</td>\n",
       "      <td>50.000647</td>\n",
       "      <td>44.816700</td>\n",
       "      <td>39.480886</td>\n",
       "      <td>50.820751</td>\n",
       "      <td>47.270174</td>\n",
       "      <td>34.296546</td>\n",
       "      <td>20.997097</td>\n",
       "      <td>28.433333</td>\n",
       "      <td>23.116453</td>\n",
       "    </tr>\n",
       "    <tr>\n",
       "      <th>min</th>\n",
       "      <td>200704.000000</td>\n",
       "      <td>1.000000</td>\n",
       "      <td>18.000000</td>\n",
       "      <td>1.000000</td>\n",
       "      <td>1.000000</td>\n",
       "      <td>1.000000</td>\n",
       "      <td>1.000000</td>\n",
       "      <td>1.000000</td>\n",
       "      <td>500.000000</td>\n",
       "      <td>0.000000</td>\n",
       "      <td>0.000000</td>\n",
       "      <td>0.000000</td>\n",
       "      <td>0.000000</td>\n",
       "      <td>0.000000</td>\n",
       "      <td>0.000000</td>\n",
       "      <td>0.000000</td>\n",
       "      <td>0.000000</td>\n",
       "      <td>0.000000</td>\n",
       "    </tr>\n",
       "    <tr>\n",
       "      <th>25%</th>\n",
       "      <td>200704.000000</td>\n",
       "      <td>73.000000</td>\n",
       "      <td>26.000000</td>\n",
       "      <td>2.000000</td>\n",
       "      <td>2.000000</td>\n",
       "      <td>2.000000</td>\n",
       "      <td>1.000000</td>\n",
       "      <td>3.000000</td>\n",
       "      <td>3500.000000</td>\n",
       "      <td>100.000000</td>\n",
       "      <td>100.000000</td>\n",
       "      <td>100.000000</td>\n",
       "      <td>50.000000</td>\n",
       "      <td>100.000000</td>\n",
       "      <td>100.000000</td>\n",
       "      <td>85.917363</td>\n",
       "      <td>88.035919</td>\n",
       "      <td>84.749867</td>\n",
       "    </tr>\n",
       "    <tr>\n",
       "      <th>50%</th>\n",
       "      <td>200712.000000</td>\n",
       "      <td>151.000000</td>\n",
       "      <td>32.000000</td>\n",
       "      <td>3.000000</td>\n",
       "      <td>3.000000</td>\n",
       "      <td>3.000000</td>\n",
       "      <td>2.000000</td>\n",
       "      <td>3.000000</td>\n",
       "      <td>5500.000000</td>\n",
       "      <td>100.000000</td>\n",
       "      <td>100.000000</td>\n",
       "      <td>100.000000</td>\n",
       "      <td>100.000000</td>\n",
       "      <td>150.000000</td>\n",
       "      <td>100.000000</td>\n",
       "      <td>93.728032</td>\n",
       "      <td>88.035919</td>\n",
       "      <td>96.856991</td>\n",
       "    </tr>\n",
       "    <tr>\n",
       "      <th>75%</th>\n",
       "      <td>200812.000000</td>\n",
       "      <td>230.500000</td>\n",
       "      <td>46.000000</td>\n",
       "      <td>3.000000</td>\n",
       "      <td>3.000000</td>\n",
       "      <td>4.000000</td>\n",
       "      <td>3.000000</td>\n",
       "      <td>3.000000</td>\n",
       "      <td>9000.000000</td>\n",
       "      <td>150.000000</td>\n",
       "      <td>150.000000</td>\n",
       "      <td>150.000000</td>\n",
       "      <td>150.000000</td>\n",
       "      <td>200.000000</td>\n",
       "      <td>100.000000</td>\n",
       "      <td>109.349371</td>\n",
       "      <td>110.044898</td>\n",
       "      <td>108.964114</td>\n",
       "    </tr>\n",
       "    <tr>\n",
       "      <th>max</th>\n",
       "      <td>200912.000000</td>\n",
       "      <td>1570.000000</td>\n",
       "      <td>65.000000</td>\n",
       "      <td>9.000000</td>\n",
       "      <td>9.000000</td>\n",
       "      <td>9.000000</td>\n",
       "      <td>9.000000</td>\n",
       "      <td>9.000000</td>\n",
       "      <td>35000.000000</td>\n",
       "      <td>200.000000</td>\n",
       "      <td>200.000000</td>\n",
       "      <td>200.000000</td>\n",
       "      <td>200.000000</td>\n",
       "      <td>200.000000</td>\n",
       "      <td>200.000000</td>\n",
       "      <td>156.213387</td>\n",
       "      <td>176.071837</td>\n",
       "      <td>145.285486</td>\n",
       "    </tr>\n",
       "  </tbody>\n",
       "</table>\n",
       "</div>"
      ],
      "text/plain": [
       "                time           id           s3           a4           a8  \\\n",
       "count    1147.000000  1147.000000  1147.000000  1147.000000  1147.000000   \n",
       "mean   200778.085440   192.285092    36.358326     3.379250     3.250218   \n",
       "std        81.488785   258.900612    12.860567     2.479942     2.238250   \n",
       "min    200704.000000     1.000000    18.000000     1.000000     1.000000   \n",
       "25%    200704.000000    73.000000    26.000000     2.000000     2.000000   \n",
       "50%    200712.000000   151.000000    32.000000     3.000000     3.000000   \n",
       "75%    200812.000000   230.500000    46.000000     3.000000     3.000000   \n",
       "max    200912.000000  1570.000000    65.000000     9.000000     9.000000   \n",
       "\n",
       "                a9          a10          a16           Qs9          Qa3  \\\n",
       "count  1147.000000  1147.000000  1147.000000    992.000000  1147.000000   \n",
       "mean      3.762860     3.326940     3.387969   7543.346774   117.088056   \n",
       "std       2.202152     2.887416     1.917667   6987.619590    50.000647   \n",
       "min       1.000000     1.000000     1.000000    500.000000     0.000000   \n",
       "25%       2.000000     1.000000     3.000000   3500.000000   100.000000   \n",
       "50%       3.000000     2.000000     3.000000   5500.000000   100.000000   \n",
       "75%       4.000000     3.000000     3.000000   9000.000000   150.000000   \n",
       "max       9.000000     9.000000     9.000000  35000.000000   200.000000   \n",
       "\n",
       "               Qa4          Qa8          Qa9         Qa10         Qa16  \\\n",
       "count  1147.000000  1147.000000  1147.000000  1147.000000  1147.000000   \n",
       "mean    124.716652   122.798605    98.474281   140.932868   108.326068   \n",
       "std      44.816700    39.480886    50.820751    47.270174    34.296546   \n",
       "min       0.000000     0.000000     0.000000     0.000000     0.000000   \n",
       "25%     100.000000   100.000000    50.000000   100.000000   100.000000   \n",
       "50%     100.000000   100.000000   100.000000   150.000000   100.000000   \n",
       "75%     150.000000   150.000000   150.000000   200.000000   100.000000   \n",
       "max     200.000000   200.000000   200.000000   200.000000   200.000000   \n",
       "\n",
       "            index1      index1a      index1b  \n",
       "count  1147.000000  1147.000000  1147.000000  \n",
       "mean     95.893501    99.222697    94.059791  \n",
       "std      20.997097    28.433333    23.116453  \n",
       "min       0.000000     0.000000     0.000000  \n",
       "25%      85.917363    88.035919    84.749867  \n",
       "50%      93.728032    88.035919    96.856991  \n",
       "75%     109.349371   110.044898   108.964114  \n",
       "max     156.213387   176.071837   145.285486  "
      ]
     },
     "execution_count": 8,
     "metadata": {},
     "output_type": "execute_result"
    }
   ],
   "source": [
    "ccss.describe()"
   ]
  },
  {
   "cell_type": "code",
   "execution_count": 9,
   "metadata": {},
   "outputs": [
    {
     "data": {
      "text/html": [
       "<div>\n",
       "<style scoped>\n",
       "    .dataframe tbody tr th:only-of-type {\n",
       "        vertical-align: middle;\n",
       "    }\n",
       "\n",
       "    .dataframe tbody tr th {\n",
       "        vertical-align: top;\n",
       "    }\n",
       "\n",
       "    .dataframe thead th {\n",
       "        text-align: right;\n",
       "    }\n",
       "</style>\n",
       "<table border=\"1\" class=\"dataframe\">\n",
       "  <thead>\n",
       "    <tr style=\"text-align: right;\">\n",
       "      <th></th>\n",
       "      <th>count</th>\n",
       "      <th>mean</th>\n",
       "      <th>std</th>\n",
       "      <th>min</th>\n",
       "      <th>5%</th>\n",
       "      <th>10%</th>\n",
       "      <th>50%</th>\n",
       "      <th>max</th>\n",
       "    </tr>\n",
       "    <tr>\n",
       "      <th>s0</th>\n",
       "      <th></th>\n",
       "      <th></th>\n",
       "      <th></th>\n",
       "      <th></th>\n",
       "      <th></th>\n",
       "      <th></th>\n",
       "      <th></th>\n",
       "      <th></th>\n",
       "    </tr>\n",
       "  </thead>\n",
       "  <tbody>\n",
       "    <tr>\n",
       "      <th>上海</th>\n",
       "      <td>387.0</td>\n",
       "      <td>37.759690</td>\n",
       "      <td>13.673530</td>\n",
       "      <td>18.0</td>\n",
       "      <td>21.0</td>\n",
       "      <td>23.0</td>\n",
       "      <td>33.0</td>\n",
       "      <td>65.0</td>\n",
       "    </tr>\n",
       "    <tr>\n",
       "      <th>北京</th>\n",
       "      <td>378.0</td>\n",
       "      <td>36.431217</td>\n",
       "      <td>13.129301</td>\n",
       "      <td>18.0</td>\n",
       "      <td>20.0</td>\n",
       "      <td>22.0</td>\n",
       "      <td>33.0</td>\n",
       "      <td>65.0</td>\n",
       "    </tr>\n",
       "    <tr>\n",
       "      <th>广州</th>\n",
       "      <td>382.0</td>\n",
       "      <td>34.866492</td>\n",
       "      <td>11.544072</td>\n",
       "      <td>18.0</td>\n",
       "      <td>21.0</td>\n",
       "      <td>23.0</td>\n",
       "      <td>32.0</td>\n",
       "      <td>65.0</td>\n",
       "    </tr>\n",
       "  </tbody>\n",
       "</table>\n",
       "</div>"
      ],
      "text/plain": [
       "    count       mean        std   min    5%   10%   50%   max\n",
       "s0                                                           \n",
       "上海  387.0  37.759690  13.673530  18.0  21.0  23.0  33.0  65.0\n",
       "北京  378.0  36.431217  13.129301  18.0  20.0  22.0  33.0  65.0\n",
       "广州  382.0  34.866492  11.544072  18.0  21.0  23.0  32.0  65.0"
      ]
     },
     "execution_count": 9,
     "metadata": {},
     "output_type": "execute_result"
    }
   ],
   "source": [
    "ccss.groupby(\"s0\").s3.describe(percentiles = [.05,.1])"
   ]
  },
  {
   "cell_type": "code",
   "execution_count": 10,
   "metadata": {},
   "outputs": [
    {
     "data": {
      "text/plain": [
       "array([440.49372109, 807.74958831, 533.90452841])"
      ]
     },
     "execution_count": 10,
     "metadata": {},
     "output_type": "execute_result"
    }
   ],
   "source": [
    "from statsmodels.stats import weightstats as ws\n",
    "des = ws.DescrStatsW(ccss.loc[:,[\"index1\",\"index1a\",\"index1b\"]])\n",
    "des.nobs\n",
    "des.var"
   ]
  },
  {
   "cell_type": "code",
   "execution_count": 11,
   "metadata": {},
   "outputs": [
    {
     "data": {
      "text/plain": [
       "200812    304\n",
       "200712    304\n",
       "200704    300\n",
       "200912    239\n",
       "Name: time, dtype: int64"
      ]
     },
     "execution_count": 11,
     "metadata": {},
     "output_type": "execute_result"
    }
   ],
   "source": [
    "ccss.time.value_counts()"
   ]
  },
  {
   "cell_type": "code",
   "execution_count": 12,
   "metadata": {},
   "outputs": [
    {
     "data": {
      "text/plain": [
       "(22.7, 25.05]                  151\n",
       "(29.75, 32.1]                  124\n",
       "(25.05, 27.4]                   91\n",
       "(27.4, 29.75]                   83\n",
       "(20.35, 22.7]                   70\n",
       "(34.45, 36.8]                   67\n",
       "(43.85, 46.2]                   62\n",
       "(17.951999999999998, 20.35]     56\n",
       "(57.95, 60.3]                   56\n",
       "(48.55, 50.9]                   53\n",
       "(39.15, 41.5]                   49\n",
       "(32.1, 34.45]                   46\n",
       "(36.8, 39.15]                   35\n",
       "(41.5, 43.85]                   32\n",
       "(46.2, 48.55]                   31\n",
       "(62.65, 65.0]                   31\n",
       "(53.25, 55.6]                   30\n",
       "(50.9, 53.25]                   29\n",
       "(55.6, 57.95]                   28\n",
       "(60.3, 62.65]                   23\n",
       "Name: s3, dtype: int64"
      ]
     },
     "execution_count": 12,
     "metadata": {},
     "output_type": "execute_result"
    }
   ],
   "source": [
    "ccss.s3.value_counts(bins = 20)"
   ]
  },
  {
   "cell_type": "code",
   "execution_count": 13,
   "metadata": {},
   "outputs": [
    {
     "data": {
      "text/plain": [
       "<matplotlib.axes._subplots.AxesSubplot at 0x1d89ffd19e8>"
      ]
     },
     "execution_count": 13,
     "metadata": {},
     "output_type": "execute_result"
    },
    {
     "data": {
      "image/png": "[encoded data removed]",
      "text/plain": [
       "<Figure size 432x288 with 1 Axes>"
      ]
     },
     "metadata": {},
     "output_type": "display_data"
    }
   ],
   "source": [
    "ccss.s5.value_counts().plot.pie()"
   ]
  },
  {
   "cell_type": "code",
   "execution_count": 14,
   "metadata": {},
   "outputs": [
    {
     "data": {
      "text/html": [
       "<div>\n",
       "<style scoped>\n",
       "    .dataframe tbody tr th:only-of-type {\n",
       "        vertical-align: middle;\n",
       "    }\n",
       "\n",
       "    .dataframe tbody tr th {\n",
       "        vertical-align: top;\n",
       "    }\n",
       "\n",
       "    .dataframe thead th {\n",
       "        text-align: right;\n",
       "    }\n",
       "</style>\n",
       "<table border=\"1\" class=\"dataframe\">\n",
       "  <thead>\n",
       "    <tr style=\"text-align: right;\">\n",
       "      <th>s0</th>\n",
       "      <th>上海</th>\n",
       "      <th>北京</th>\n",
       "      <th>广州</th>\n",
       "    </tr>\n",
       "    <tr>\n",
       "      <th>s2</th>\n",
       "      <th></th>\n",
       "      <th></th>\n",
       "      <th></th>\n",
       "    </tr>\n",
       "  </thead>\n",
       "  <tbody>\n",
       "    <tr>\n",
       "      <th>女</th>\n",
       "      <td>166</td>\n",
       "      <td>190</td>\n",
       "      <td>154</td>\n",
       "    </tr>\n",
       "    <tr>\n",
       "      <th>男</th>\n",
       "      <td>221</td>\n",
       "      <td>188</td>\n",
       "      <td>228</td>\n",
       "    </tr>\n",
       "  </tbody>\n",
       "</table>\n",
       "</div>"
      ],
      "text/plain": [
       "s0   上海   北京   广州\n",
       "s2               \n",
       "女   166  190  154\n",
       "男   221  188  228"
      ]
     },
     "execution_count": 14,
     "metadata": {},
     "output_type": "execute_result"
    }
   ],
   "source": [
    "pd.crosstab(ccss.s2,ccss.s0)"
   ]
  },
  {
   "cell_type": "code",
   "execution_count": 15,
   "metadata": {},
   "outputs": [
    {
     "data": {
      "text/html": [
       "<div>\n",
       "<style scoped>\n",
       "    .dataframe tbody tr th:only-of-type {\n",
       "        vertical-align: middle;\n",
       "    }\n",
       "\n",
       "    .dataframe tbody tr th {\n",
       "        vertical-align: top;\n",
       "    }\n",
       "\n",
       "    .dataframe thead th {\n",
       "        text-align: right;\n",
       "    }\n",
       "</style>\n",
       "<table border=\"1\" class=\"dataframe\">\n",
       "  <thead>\n",
       "    <tr style=\"text-align: right;\">\n",
       "      <th>s0</th>\n",
       "      <th>上海</th>\n",
       "      <th>北京</th>\n",
       "      <th>广州</th>\n",
       "    </tr>\n",
       "    <tr>\n",
       "      <th>s2</th>\n",
       "      <th></th>\n",
       "      <th></th>\n",
       "      <th></th>\n",
       "    </tr>\n",
       "  </thead>\n",
       "  <tbody>\n",
       "    <tr>\n",
       "      <th>女</th>\n",
       "      <td>0.325490</td>\n",
       "      <td>0.372549</td>\n",
       "      <td>0.301961</td>\n",
       "    </tr>\n",
       "    <tr>\n",
       "      <th>男</th>\n",
       "      <td>0.346939</td>\n",
       "      <td>0.295133</td>\n",
       "      <td>0.357928</td>\n",
       "    </tr>\n",
       "    <tr>\n",
       "      <th>All</th>\n",
       "      <td>0.337402</td>\n",
       "      <td>0.329555</td>\n",
       "      <td>0.333043</td>\n",
       "    </tr>\n",
       "  </tbody>\n",
       "</table>\n",
       "</div>"
      ],
      "text/plain": [
       "s0         上海        北京        广州\n",
       "s2                               \n",
       "女    0.325490  0.372549  0.301961\n",
       "男    0.346939  0.295133  0.357928\n",
       "All  0.337402  0.329555  0.333043"
      ]
     },
     "execution_count": 15,
     "metadata": {},
     "output_type": "execute_result"
    }
   ],
   "source": [
    "pd.crosstab(ccss.s2,ccss.s0,normalize = 0,margins = True)"
   ]
  },
  {
   "cell_type": "code",
   "execution_count": 16,
   "metadata": {},
   "outputs": [
    {
     "data": {
      "text/html": [
       "<div>\n",
       "<style scoped>\n",
       "    .dataframe tbody tr th:only-of-type {\n",
       "        vertical-align: middle;\n",
       "    }\n",
       "\n",
       "    .dataframe tbody tr th {\n",
       "        vertical-align: top;\n",
       "    }\n",
       "\n",
       "    .dataframe thead tr th {\n",
       "        text-align: left;\n",
       "    }\n",
       "\n",
       "    .dataframe thead tr:last-of-type th {\n",
       "        text-align: right;\n",
       "    }\n",
       "</style>\n",
       "<table border=\"1\" class=\"dataframe\">\n",
       "  <thead>\n",
       "    <tr>\n",
       "      <th></th>\n",
       "      <th>s0</th>\n",
       "      <th colspan=\"10\" halign=\"left\">上海</th>\n",
       "      <th>...</th>\n",
       "      <th colspan=\"10\" halign=\"left\">广州</th>\n",
       "    </tr>\n",
       "    <tr>\n",
       "      <th></th>\n",
       "      <th>s5</th>\n",
       "      <th>专业人士（如医生、律师等）</th>\n",
       "      <th>个体经营者/私营业主</th>\n",
       "      <th>企/事业管理人员</th>\n",
       "      <th>公司普通职员（白领）</th>\n",
       "      <th>其他职业</th>\n",
       "      <th>国家公务员</th>\n",
       "      <th>学生</th>\n",
       "      <th>工人/体力工作者（蓝领）</th>\n",
       "      <th>教师</th>\n",
       "      <th>无业/待业/失业/家庭主妇</th>\n",
       "      <th>...</th>\n",
       "      <th>个体经营者/私营业主</th>\n",
       "      <th>企/事业管理人员</th>\n",
       "      <th>公司普通职员（白领）</th>\n",
       "      <th>其他职业</th>\n",
       "      <th>国家公务员</th>\n",
       "      <th>学生</th>\n",
       "      <th>工人/体力工作者（蓝领）</th>\n",
       "      <th>教师</th>\n",
       "      <th>无业/待业/失业/家庭主妇</th>\n",
       "      <th>退休</th>\n",
       "    </tr>\n",
       "    <tr>\n",
       "      <th>s2</th>\n",
       "      <th>O1</th>\n",
       "      <th></th>\n",
       "      <th></th>\n",
       "      <th></th>\n",
       "      <th></th>\n",
       "      <th></th>\n",
       "      <th></th>\n",
       "      <th></th>\n",
       "      <th></th>\n",
       "      <th></th>\n",
       "      <th></th>\n",
       "      <th></th>\n",
       "      <th></th>\n",
       "      <th></th>\n",
       "      <th></th>\n",
       "      <th></th>\n",
       "      <th></th>\n",
       "      <th></th>\n",
       "      <th></th>\n",
       "      <th></th>\n",
       "      <th></th>\n",
       "      <th></th>\n",
       "    </tr>\n",
       "  </thead>\n",
       "  <tbody>\n",
       "    <tr>\n",
       "      <th rowspan=\"2\" valign=\"top\">女</th>\n",
       "      <th>有</th>\n",
       "      <td>0</td>\n",
       "      <td>2</td>\n",
       "      <td>9</td>\n",
       "      <td>10</td>\n",
       "      <td>2</td>\n",
       "      <td>3</td>\n",
       "      <td>1</td>\n",
       "      <td>1</td>\n",
       "      <td>1</td>\n",
       "      <td>2</td>\n",
       "      <td>...</td>\n",
       "      <td>2</td>\n",
       "      <td>3</td>\n",
       "      <td>11</td>\n",
       "      <td>3</td>\n",
       "      <td>0</td>\n",
       "      <td>1</td>\n",
       "      <td>0</td>\n",
       "      <td>1</td>\n",
       "      <td>9</td>\n",
       "      <td>1</td>\n",
       "    </tr>\n",
       "    <tr>\n",
       "      <th>没有</th>\n",
       "      <td>3</td>\n",
       "      <td>11</td>\n",
       "      <td>10</td>\n",
       "      <td>54</td>\n",
       "      <td>3</td>\n",
       "      <td>3</td>\n",
       "      <td>2</td>\n",
       "      <td>7</td>\n",
       "      <td>2</td>\n",
       "      <td>9</td>\n",
       "      <td>...</td>\n",
       "      <td>8</td>\n",
       "      <td>12</td>\n",
       "      <td>41</td>\n",
       "      <td>3</td>\n",
       "      <td>0</td>\n",
       "      <td>1</td>\n",
       "      <td>13</td>\n",
       "      <td>3</td>\n",
       "      <td>14</td>\n",
       "      <td>18</td>\n",
       "    </tr>\n",
       "    <tr>\n",
       "      <th rowspan=\"2\" valign=\"top\">男</th>\n",
       "      <th>有</th>\n",
       "      <td>4</td>\n",
       "      <td>15</td>\n",
       "      <td>16</td>\n",
       "      <td>14</td>\n",
       "      <td>0</td>\n",
       "      <td>1</td>\n",
       "      <td>1</td>\n",
       "      <td>1</td>\n",
       "      <td>2</td>\n",
       "      <td>0</td>\n",
       "      <td>...</td>\n",
       "      <td>16</td>\n",
       "      <td>18</td>\n",
       "      <td>23</td>\n",
       "      <td>2</td>\n",
       "      <td>3</td>\n",
       "      <td>2</td>\n",
       "      <td>0</td>\n",
       "      <td>2</td>\n",
       "      <td>0</td>\n",
       "      <td>1</td>\n",
       "    </tr>\n",
       "    <tr>\n",
       "      <th>没有</th>\n",
       "      <td>6</td>\n",
       "      <td>13</td>\n",
       "      <td>29</td>\n",
       "      <td>45</td>\n",
       "      <td>9</td>\n",
       "      <td>1</td>\n",
       "      <td>6</td>\n",
       "      <td>15</td>\n",
       "      <td>7</td>\n",
       "      <td>13</td>\n",
       "      <td>...</td>\n",
       "      <td>21</td>\n",
       "      <td>26</td>\n",
       "      <td>40</td>\n",
       "      <td>10</td>\n",
       "      <td>7</td>\n",
       "      <td>4</td>\n",
       "      <td>16</td>\n",
       "      <td>6</td>\n",
       "      <td>13</td>\n",
       "      <td>6</td>\n",
       "    </tr>\n",
       "  </tbody>\n",
       "</table>\n",
       "<p>4 rows × 33 columns</p>\n",
       "</div>"
      ],
      "text/plain": [
       "s0               上海                                                            \\\n",
       "s5    专业人士（如医生、律师等） 个体经营者/私营业主 企/事业管理人员 公司普通职员（白领） 其他职业 国家公务员 学生 工人/体力工作者（蓝领）   \n",
       "s2 O1                                                                           \n",
       "女  有              0          2        9         10    2     3  1            1   \n",
       "   没有             3         11       10         54    3     3  2            7   \n",
       "男  有              4         15       16         14    0     1  1            1   \n",
       "   没有             6         13       29         45    9     1  6           15   \n",
       "\n",
       "s0                      ...         广州                                    \\\n",
       "s5    教师 无业/待业/失业/家庭主妇  ... 个体经营者/私营业主 企/事业管理人员 公司普通职员（白领） 其他职业 国家公务员 学生   \n",
       "s2 O1                   ...                                                \n",
       "女  有   1             2  ...          2        3         11    3     0  1   \n",
       "   没有  2             9  ...          8       12         41    3     0  1   \n",
       "男  有   2             0  ...         16       18         23    2     3  2   \n",
       "   没有  7            13  ...         21       26         40   10     7  4   \n",
       "\n",
       "s0                                       \n",
       "s5    工人/体力工作者（蓝领） 教师 无业/待业/失业/家庭主妇  退休  \n",
       "s2 O1                                    \n",
       "女  有             0  1             9   1  \n",
       "   没有           13  3            14  18  \n",
       "男  有             0  2             0   1  \n",
       "   没有           16  6            13   6  \n",
       "\n",
       "[4 rows x 33 columns]"
      ]
     },
     "execution_count": 16,
     "metadata": {},
     "output_type": "execute_result"
    }
   ],
   "source": [
    "pd.crosstab([ccss.s2,ccss.O1],[ccss.s0,ccss.s5])"
   ]
  },
  {
   "cell_type": "code",
   "execution_count": 17,
   "metadata": {},
   "outputs": [
    {
     "data": {
      "text/plain": [
       "<matplotlib.axes._subplots.AxesSubplot at 0x1d8a0057da0>"
      ]
     },
     "execution_count": 17,
     "metadata": {},
     "output_type": "execute_result"
    },
    {
     "data": {
      "image/png": "[encoded data removed]",
      "text/plain": [
       "<Figure size 432x288 with 1 Axes>"
      ]
     },
     "metadata": {
      "needs_background": "light"
     },
     "output_type": "display_data"
    }
   ],
   "source": [
    "pd.crosstab(ccss.s2,ccss.s0).plot.bar()"
   ]
  },
  {
   "cell_type": "code",
   "execution_count": 18,
   "metadata": {},
   "outputs": [
    {
     "data": {
      "text/plain": [
       "<matplotlib.axes._subplots.AxesSubplot at 0x1d8a00f80b8>"
      ]
     },
     "execution_count": 18,
     "metadata": {},
     "output_type": "execute_result"
    },
    {
     "data": {
      "image/png": "[encoded data removed]",
      "text/plain": [
       "<Figure size 432x288 with 1 Axes>"
      ]
     },
     "metadata": {
      "needs_background": "light"
     },
     "output_type": "display_data"
    }
   ],
   "source": [
    "pd.crosstab(ccss.s2,ccss.s0).plot.bar(stacked = True)"
   ]
  },
  {
   "cell_type": "code",
   "execution_count": 19,
   "metadata": {
    "scrolled": true
   },
   "outputs": [
    {
     "data": {
      "text/plain": [
       "<matplotlib.axes._subplots.AxesSubplot at 0x1d8a016cd68>"
      ]
     },
     "execution_count": 19,
     "metadata": {},
     "output_type": "execute_result"
    },
    {
     "data": {
      "image/png": "[encoded data removed]",
      "text/plain": [
       "<Figure size 432x288 with 1 Axes>"
      ]
     },
     "metadata": {
      "needs_background": "light"
     },
     "output_type": "display_data"
    }
   ],
   "source": [
    "pd.crosstab(ccss.s2,ccss.s0,normalize = 0).plot.bar(stacked = True)"
   ]
  },
  {
   "cell_type": "code",
   "execution_count": 20,
   "metadata": {},
   "outputs": [
    {
     "data": {
      "text/plain": [
       "count    100.000000\n",
       "mean      97.164727\n",
       "std       20.808324\n",
       "min       31.242677\n",
       "25%       85.917363\n",
       "50%      101.538702\n",
       "75%      109.349371\n",
       "max      140.592049\n",
       "Name: index1, dtype: float64"
      ]
     },
     "execution_count": 20,
     "metadata": {},
     "output_type": "execute_result"
    }
   ],
   "source": [
    "ccss.query(\"s0 == '广州' & time == 200704\").index1.describe()"
   ]
  },
  {
   "cell_type": "code",
   "execution_count": 21,
   "metadata": {},
   "outputs": [
    {
     "data": {
      "text/plain": [
       "<matplotlib.axes._subplots.AxesSubplot at 0x1d8a01e9d30>"
      ]
     },
     "execution_count": 21,
     "metadata": {},
     "output_type": "execute_result"
    },
    {
     "data": {
      "image/png": "[encoded data removed]",
      "text/plain": [
       "<Figure size 432x288 with 1 Axes>"
      ]
     },
     "metadata": {
      "needs_background": "light"
     },
     "output_type": "display_data"
    }
   ],
   "source": [
    "ccss.query(\"s0 == '广州' & time == 200704\").index1.hist()"
   ]
  },
  {
   "cell_type": "code",
   "execution_count": 22,
   "metadata": {},
   "outputs": [
    {
     "data": {
      "text/plain": [
       "Ttest_1sampResult(statistic=-1.3625667518512996, pvalue=0.17611075148299993)"
      ]
     },
     "execution_count": 22,
     "metadata": {},
     "output_type": "execute_result"
    }
   ],
   "source": [
    "from scipy import stats as ss\n",
    "ss.ttest_1samp(ccss.query(\"s0 == '广州' & time == 200704\").index1,100) # 100 中出现17.6次"
   ]
  },
  {
   "cell_type": "code",
   "execution_count": 23,
   "metadata": {},
   "outputs": [
    {
     "data": {
      "text/plain": [
       "97.16472701710536"
      ]
     },
     "execution_count": 23,
     "metadata": {},
     "output_type": "execute_result"
    }
   ],
   "source": [
    "from statsmodels.stats import weightstats as ws\n",
    "des = ws.DescrStatsW(ccss.query(\"s0 == '广州' & time == 200704\").index1)\n",
    "des.mean"
   ]
  },
  {
   "cell_type": "code",
   "execution_count": 24,
   "metadata": {},
   "outputs": [
    {
     "data": {
      "text/plain": [
       "(93.03590418536487, 101.29354984884586)"
      ]
     },
     "execution_count": 24,
     "metadata": {},
     "output_type": "execute_result"
    }
   ],
   "source": [
    "des.tconfint_mean()"
   ]
  },
  {
   "cell_type": "code",
   "execution_count": 25,
   "metadata": {},
   "outputs": [
    {
     "data": {
      "text/plain": [
       "(-1.3625667518512996, 0.17611075148299993, 99.0)"
      ]
     },
     "execution_count": 25,
     "metadata": {},
     "output_type": "execute_result"
    }
   ],
   "source": [
    "des.ttest_mean(100)"
   ]
  },
  {
   "cell_type": "code",
   "execution_count": 26,
   "metadata": {},
   "outputs": [
    {
     "data": {
      "text/plain": [
       "(-1.3625667518512996, 0.08805537574149996, 99.0)"
      ]
     },
     "execution_count": 26,
     "metadata": {},
     "output_type": "execute_result"
    }
   ],
   "source": [
    "des.ttest_mean(100,\"smaller\")"
   ]
  },
  {
   "cell_type": "code",
   "execution_count": 27,
   "metadata": {},
   "outputs": [
    {
     "data": {
      "text/plain": [
       "(-1.3625667518512996, 0.9119446242585001, 99.0)"
      ]
     },
     "execution_count": 27,
     "metadata": {},
     "output_type": "execute_result"
    }
   ],
   "source": [
    "des.ttest_mean(100,\"larger\")"
   ]
  },
  {
   "cell_type": "code",
   "execution_count": 28,
   "metadata": {},
   "outputs": [
    {
     "data": {
      "text/plain": [
       "<matplotlib.axes._subplots.AxesSubplot at 0x1d8a026be48>"
      ]
     },
     "execution_count": 28,
     "metadata": {},
     "output_type": "execute_result"
    },
    {
     "data": {
      "image/png": "[encoded data removed]",
      "text/plain": [
       "<Figure size 432x288 with 1 Axes>"
      ]
     },
     "metadata": {
      "needs_background": "light"
     },
     "output_type": "display_data"
    }
   ],
   "source": [
    "ccss.index1.plot.hist()"
   ]
  },
  {
   "cell_type": "code",
   "execution_count": 29,
   "metadata": {},
   "outputs": [
    {
     "data": {
      "text/html": [
       "<div>\n",
       "<style scoped>\n",
       "    .dataframe tbody tr th:only-of-type {\n",
       "        vertical-align: middle;\n",
       "    }\n",
       "\n",
       "    .dataframe tbody tr th {\n",
       "        vertical-align: top;\n",
       "    }\n",
       "\n",
       "    .dataframe thead th {\n",
       "        text-align: right;\n",
       "    }\n",
       "</style>\n",
       "<table border=\"1\" class=\"dataframe\">\n",
       "  <thead>\n",
       "    <tr style=\"text-align: right;\">\n",
       "      <th></th>\n",
       "      <th>count</th>\n",
       "      <th>mean</th>\n",
       "      <th>std</th>\n",
       "      <th>min</th>\n",
       "      <th>25%</th>\n",
       "      <th>50%</th>\n",
       "      <th>75%</th>\n",
       "      <th>max</th>\n",
       "    </tr>\n",
       "    <tr>\n",
       "      <th>s7</th>\n",
       "      <th></th>\n",
       "      <th></th>\n",
       "      <th></th>\n",
       "      <th></th>\n",
       "      <th></th>\n",
       "      <th></th>\n",
       "      <th></th>\n",
       "      <th></th>\n",
       "    </tr>\n",
       "  </thead>\n",
       "  <tbody>\n",
       "    <tr>\n",
       "      <th>已婚</th>\n",
       "      <td>790.0</td>\n",
       "      <td>95.033106</td>\n",
       "      <td>21.282487</td>\n",
       "      <td>0.000000</td>\n",
       "      <td>85.917363</td>\n",
       "      <td>93.728032</td>\n",
       "      <td>109.349371</td>\n",
       "      <td>156.213387</td>\n",
       "    </tr>\n",
       "    <tr>\n",
       "      <th>未婚</th>\n",
       "      <td>343.0</td>\n",
       "      <td>98.282359</td>\n",
       "      <td>19.959824</td>\n",
       "      <td>23.432008</td>\n",
       "      <td>85.917363</td>\n",
       "      <td>101.538702</td>\n",
       "      <td>109.349371</td>\n",
       "      <td>156.213387</td>\n",
       "    </tr>\n",
       "    <tr>\n",
       "      <th>离异/分居/丧偶</th>\n",
       "      <td>14.0</td>\n",
       "      <td>85.917363</td>\n",
       "      <td>24.316544</td>\n",
       "      <td>31.242677</td>\n",
       "      <td>72.248692</td>\n",
       "      <td>85.917363</td>\n",
       "      <td>101.538702</td>\n",
       "      <td>124.970710</td>\n",
       "    </tr>\n",
       "  </tbody>\n",
       "</table>\n",
       "</div>"
      ],
      "text/plain": [
       "          count       mean        std        min        25%         50%  \\\n",
       "s7                                                                        \n",
       "已婚        790.0  95.033106  21.282487   0.000000  85.917363   93.728032   \n",
       "未婚        343.0  98.282359  19.959824  23.432008  85.917363  101.538702   \n",
       "离异/分居/丧偶   14.0  85.917363  24.316544  31.242677  72.248692   85.917363   \n",
       "\n",
       "                 75%         max  \n",
       "s7                                \n",
       "已婚        109.349371  156.213387  \n",
       "未婚        109.349371  156.213387  \n",
       "离异/分居/丧偶  101.538702  124.970710  "
      ]
     },
     "execution_count": 29,
     "metadata": {},
     "output_type": "execute_result"
    }
   ],
   "source": [
    "ccss.groupby(\"s7\").index1.describe()"
   ]
  },
  {
   "cell_type": "code",
   "execution_count": 30,
   "metadata": {},
   "outputs": [
    {
     "data": {
      "text/plain": [
       "LeveneResult(statistic=0.6178737960192996, pvalue=0.43200314605212653)"
      ]
     },
     "execution_count": 30,
     "metadata": {},
     "output_type": "execute_result"
    }
   ],
   "source": [
    "# 方差齐检验\n",
    "ss.levene(ccss.index1[ccss.s7 == '未婚'],ccss.index1[ccss.s7==\"已婚\"])"
   ]
  },
  {
   "cell_type": "code",
   "execution_count": 31,
   "metadata": {},
   "outputs": [
    {
     "data": {
      "text/plain": [
       "Ttest_indResult(statistic=2.405261376009453, pvalue=0.016320721789339597)"
      ]
     },
     "execution_count": 31,
     "metadata": {},
     "output_type": "execute_result"
    }
   ],
   "source": [
    "ss.ttest_ind(ccss.index1[ccss.s7 == \"未婚\"],ccss.index1[ccss.s7==\"已婚\"])"
   ]
  },
  {
   "cell_type": "code",
   "execution_count": 32,
   "metadata": {},
   "outputs": [
    {
     "data": {
      "text/plain": [
       "Ttest_indResult(statistic=2.4669071564965845, pvalue=0.013870360692360313)"
      ]
     },
     "execution_count": 32,
     "metadata": {},
     "output_type": "execute_result"
    }
   ],
   "source": [
    "# 校正T检验\n",
    "ss.ttest_ind(ccss.index1[ccss.s7 == \"未婚\"],ccss.index1[ccss.s7==\"已婚\"],equal_var = False)"
   ]
  },
  {
   "cell_type": "code",
   "execution_count": 33,
   "metadata": {},
   "outputs": [
    {
     "data": {
      "text/plain": [
       "Ttest_indResult(statistic=-2.4052618666155126, pvalue=0.016320699991532902)"
      ]
     },
     "execution_count": 33,
     "metadata": {},
     "output_type": "execute_result"
    }
   ],
   "source": [
    "ss.ttest_ind_from_stats(95.033106,21.282487,790,\n",
    "                       98.282359,19.959824,343)"
   ]
  },
  {
   "cell_type": "code",
   "execution_count": 34,
   "metadata": {},
   "outputs": [
    {
     "data": {
      "text/plain": [
       "(2.4052613760094634, 0.01632072178933914, 1131.0)"
      ]
     },
     "execution_count": 34,
     "metadata": {},
     "output_type": "execute_result"
    }
   ],
   "source": [
    "d1 = ws.DescrStatsW(ccss.index1[ccss.s7 == '未婚'])\n",
    "d2 = ws.DescrStatsW(ccss.index1[ccss.s7 == '已婚'])\n",
    "\n",
    "comp = ws.CompareMeans(d1,d2)\n",
    "comp.ttest_ind()"
   ]
  },
  {
   "cell_type": "code",
   "execution_count": 35,
   "metadata": {},
   "outputs": [
    {
     "data": {
      "text/plain": [
       "(2.4669071564965956, 0.013870360692359867, 690.0875759383671)"
      ]
     },
     "execution_count": 35,
     "metadata": {},
     "output_type": "execute_result"
    }
   ],
   "source": [
    "comp.ttest_ind(usevar = 'unequal')"
   ]
  },
  {
   "cell_type": "code",
   "execution_count": 36,
   "metadata": {},
   "outputs": [
    {
     "data": {
      "text/html": [
       "<div>\n",
       "<style scoped>\n",
       "    .dataframe tbody tr th:only-of-type {\n",
       "        vertical-align: middle;\n",
       "    }\n",
       "\n",
       "    .dataframe tbody tr th {\n",
       "        vertical-align: top;\n",
       "    }\n",
       "\n",
       "    .dataframe thead th {\n",
       "        text-align: right;\n",
       "    }\n",
       "</style>\n",
       "<table border=\"1\" class=\"dataframe\">\n",
       "  <thead>\n",
       "    <tr style=\"text-align: right;\">\n",
       "      <th></th>\n",
       "      <th>time</th>\n",
       "      <th>id</th>\n",
       "      <th>s2</th>\n",
       "      <th>s3</th>\n",
       "      <th>Qa3</th>\n",
       "      <th>Qa4</th>\n",
       "      <th>Qa8</th>\n",
       "      <th>Qa10</th>\n",
       "      <th>Qa16</th>\n",
       "      <th>index1</th>\n",
       "      <th>index1a</th>\n",
       "      <th>index1b</th>\n",
       "      <th>Qa3n</th>\n",
       "      <th>Qa4n</th>\n",
       "      <th>Qa8n</th>\n",
       "      <th>Qa10n</th>\n",
       "      <th>Qa16n</th>\n",
       "      <th>index1n</th>\n",
       "      <th>index1an</th>\n",
       "      <th>index1bn</th>\n",
       "    </tr>\n",
       "  </thead>\n",
       "  <tbody>\n",
       "    <tr>\n",
       "      <th>0</th>\n",
       "      <td>200704</td>\n",
       "      <td>22</td>\n",
       "      <td>2</td>\n",
       "      <td>59</td>\n",
       "      <td>100</td>\n",
       "      <td>100</td>\n",
       "      <td>100</td>\n",
       "      <td>100</td>\n",
       "      <td>50</td>\n",
       "      <td>70.296024</td>\n",
       "      <td>66.026939</td>\n",
       "      <td>72.642743</td>\n",
       "      <td>50</td>\n",
       "      <td>100</td>\n",
       "      <td>100</td>\n",
       "      <td>100</td>\n",
       "      <td>100</td>\n",
       "      <td>70.296024</td>\n",
       "      <td>66.026939</td>\n",
       "      <td>72.642743</td>\n",
       "    </tr>\n",
       "    <tr>\n",
       "      <th>1</th>\n",
       "      <td>200704</td>\n",
       "      <td>40</td>\n",
       "      <td>2</td>\n",
       "      <td>28</td>\n",
       "      <td>150</td>\n",
       "      <td>150</td>\n",
       "      <td>150</td>\n",
       "      <td>150</td>\n",
       "      <td>100</td>\n",
       "      <td>109.349371</td>\n",
       "      <td>110.044898</td>\n",
       "      <td>108.964114</td>\n",
       "      <td>150</td>\n",
       "      <td>100</td>\n",
       "      <td>100</td>\n",
       "      <td>200</td>\n",
       "      <td>100</td>\n",
       "      <td>101.538702</td>\n",
       "      <td>110.044898</td>\n",
       "      <td>96.856991</td>\n",
       "    </tr>\n",
       "    <tr>\n",
       "      <th>2</th>\n",
       "      <td>200704</td>\n",
       "      <td>45</td>\n",
       "      <td>1</td>\n",
       "      <td>55</td>\n",
       "      <td>100</td>\n",
       "      <td>50</td>\n",
       "      <td>50</td>\n",
       "      <td>100</td>\n",
       "      <td>200</td>\n",
       "      <td>78.106694</td>\n",
       "      <td>132.053878</td>\n",
       "      <td>48.428495</td>\n",
       "      <td>150</td>\n",
       "      <td>100</td>\n",
       "      <td>150</td>\n",
       "      <td>150</td>\n",
       "      <td>100</td>\n",
       "      <td>101.538702</td>\n",
       "      <td>110.044898</td>\n",
       "      <td>96.856991</td>\n",
       "    </tr>\n",
       "    <tr>\n",
       "      <th>3</th>\n",
       "      <td>200704</td>\n",
       "      <td>69</td>\n",
       "      <td>1</td>\n",
       "      <td>26</td>\n",
       "      <td>150</td>\n",
       "      <td>200</td>\n",
       "      <td>150</td>\n",
       "      <td>50</td>\n",
       "      <td>100</td>\n",
       "      <td>101.538702</td>\n",
       "      <td>110.044898</td>\n",
       "      <td>96.856991</td>\n",
       "      <td>150</td>\n",
       "      <td>100</td>\n",
       "      <td>150</td>\n",
       "      <td>200</td>\n",
       "      <td>200</td>\n",
       "      <td>124.970710</td>\n",
       "      <td>154.062858</td>\n",
       "      <td>108.964114</td>\n",
       "    </tr>\n",
       "    <tr>\n",
       "      <th>4</th>\n",
       "      <td>200704</td>\n",
       "      <td>98</td>\n",
       "      <td>1</td>\n",
       "      <td>63</td>\n",
       "      <td>100</td>\n",
       "      <td>200</td>\n",
       "      <td>150</td>\n",
       "      <td>150</td>\n",
       "      <td>100</td>\n",
       "      <td>109.349371</td>\n",
       "      <td>88.035919</td>\n",
       "      <td>121.071238</td>\n",
       "      <td>150</td>\n",
       "      <td>150</td>\n",
       "      <td>100</td>\n",
       "      <td>0</td>\n",
       "      <td>100</td>\n",
       "      <td>78.106694</td>\n",
       "      <td>110.044898</td>\n",
       "      <td>60.535619</td>\n",
       "    </tr>\n",
       "  </tbody>\n",
       "</table>\n",
       "</div>"
      ],
      "text/plain": [
       "     time  id  s2  s3  Qa3  Qa4  Qa8  Qa10  Qa16      index1     index1a  \\\n",
       "0  200704  22   2  59  100  100  100   100    50   70.296024   66.026939   \n",
       "1  200704  40   2  28  150  150  150   150   100  109.349371  110.044898   \n",
       "2  200704  45   1  55  100   50   50   100   200   78.106694  132.053878   \n",
       "3  200704  69   1  26  150  200  150    50   100  101.538702  110.044898   \n",
       "4  200704  98   1  63  100  200  150   150   100  109.349371   88.035919   \n",
       "\n",
       "      index1b  Qa3n  Qa4n  Qa8n  Qa10n  Qa16n     index1n    index1an  \\\n",
       "0   72.642743    50   100   100    100    100   70.296024   66.026939   \n",
       "1  108.964114   150   100   100    200    100  101.538702  110.044898   \n",
       "2   48.428495   150   100   150    150    100  101.538702  110.044898   \n",
       "3   96.856991   150   100   150    200    200  124.970710  154.062858   \n",
       "4  121.071238   150   150   100      0    100   78.106694  110.044898   \n",
       "\n",
       "     index1bn  \n",
       "0   72.642743  \n",
       "1   96.856991  \n",
       "2   96.856991  \n",
       "3  108.964114  \n",
       "4   60.535619  "
      ]
     },
     "execution_count": 36,
     "metadata": {},
     "output_type": "execute_result"
    }
   ],
   "source": [
    "ccss_p = pd.read_excel(\"CCSS_sample.xlsx\",sheet_name = \"CCSS_pair\")\n",
    "ccss_p.head()"
   ]
  },
  {
   "cell_type": "code",
   "execution_count": 37,
   "metadata": {
    "scrolled": true
   },
   "outputs": [
    {
     "data": {
      "text/html": [
       "<div>\n",
       "<style scoped>\n",
       "    .dataframe tbody tr th:only-of-type {\n",
       "        vertical-align: middle;\n",
       "    }\n",
       "\n",
       "    .dataframe tbody tr th {\n",
       "        vertical-align: top;\n",
       "    }\n",
       "\n",
       "    .dataframe thead th {\n",
       "        text-align: right;\n",
       "    }\n",
       "</style>\n",
       "<table border=\"1\" class=\"dataframe\">\n",
       "  <thead>\n",
       "    <tr style=\"text-align: right;\">\n",
       "      <th></th>\n",
       "      <th>index1</th>\n",
       "      <th>index1n</th>\n",
       "    </tr>\n",
       "  </thead>\n",
       "  <tbody>\n",
       "    <tr>\n",
       "      <th>count</th>\n",
       "      <td>88.000000</td>\n",
       "      <td>88.000000</td>\n",
       "    </tr>\n",
       "    <tr>\n",
       "      <th>mean</th>\n",
       "      <td>98.787216</td>\n",
       "      <td>96.035730</td>\n",
       "    </tr>\n",
       "    <tr>\n",
       "      <th>std</th>\n",
       "      <td>16.152752</td>\n",
       "      <td>20.102950</td>\n",
       "    </tr>\n",
       "    <tr>\n",
       "      <th>min</th>\n",
       "      <td>70.296024</td>\n",
       "      <td>39.053347</td>\n",
       "    </tr>\n",
       "    <tr>\n",
       "      <th>25%</th>\n",
       "      <td>85.917363</td>\n",
       "      <td>85.917363</td>\n",
       "    </tr>\n",
       "    <tr>\n",
       "      <th>50%</th>\n",
       "      <td>101.538702</td>\n",
       "      <td>93.728032</td>\n",
       "    </tr>\n",
       "    <tr>\n",
       "      <th>75%</th>\n",
       "      <td>109.349371</td>\n",
       "      <td>109.349371</td>\n",
       "    </tr>\n",
       "    <tr>\n",
       "      <th>max</th>\n",
       "      <td>132.781379</td>\n",
       "      <td>132.781379</td>\n",
       "    </tr>\n",
       "  </tbody>\n",
       "</table>\n",
       "</div>"
      ],
      "text/plain": [
       "           index1     index1n\n",
       "count   88.000000   88.000000\n",
       "mean    98.787216   96.035730\n",
       "std     16.152752   20.102950\n",
       "min     70.296024   39.053347\n",
       "25%     85.917363   85.917363\n",
       "50%    101.538702   93.728032\n",
       "75%    109.349371  109.349371\n",
       "max    132.781379  132.781379"
      ]
     },
     "execution_count": 37,
     "metadata": {},
     "output_type": "execute_result"
    }
   ],
   "source": [
    "ccss_p.loc[:,[\"index1\",\"index1n\"]].describe()"
   ]
  },
  {
   "cell_type": "code",
   "execution_count": 38,
   "metadata": {},
   "outputs": [
    {
     "data": {
      "text/plain": [
       "(0.26380117986159085, 0.013011623679509974)"
      ]
     },
     "execution_count": 38,
     "metadata": {},
     "output_type": "execute_result"
    }
   ],
   "source": [
    "ss.pearsonr(ccss_p.index1,ccss_p.index1n)"
   ]
  },
  {
   "cell_type": "code",
   "execution_count": 39,
   "metadata": {},
   "outputs": [
    {
     "data": {
      "text/plain": [
       "Ttest_relResult(statistic=1.1616334792419984, pvalue=0.24856144386191056)"
      ]
     },
     "execution_count": 39,
     "metadata": {},
     "output_type": "execute_result"
    }
   ],
   "source": [
    "ss.ttest_rel(ccss_p.index1,ccss_p.index1n)"
   ]
  },
  {
   "cell_type": "code",
   "execution_count": 40,
   "metadata": {},
   "outputs": [
    {
     "data": {
      "text/plain": [
       "Ttest_1sampResult(statistic=1.1616334792419984, pvalue=0.24856144386191056)"
      ]
     },
     "execution_count": 40,
     "metadata": {},
     "output_type": "execute_result"
    }
   ],
   "source": [
    "ss.ttest_1samp(ccss_p.index1 - ccss_p.index1n,0)"
   ]
  },
  {
   "cell_type": "code",
   "execution_count": 41,
   "metadata": {},
   "outputs": [
    {
     "data": {
      "text/plain": [
       "(1.1616334792419987, 0.2485614438619105, 87.0)"
      ]
     },
     "execution_count": 41,
     "metadata": {},
     "output_type": "execute_result"
    }
   ],
   "source": [
    "des = ws.DescrStatsW(ccss_p.index1 - ccss_p.index1n)\n",
    "des.ttest_mean()"
   ]
  },
  {
   "cell_type": "code",
   "execution_count": 43,
   "metadata": {},
   "outputs": [
    {
     "data": {
      "text/plain": [
       "<matplotlib.axes._subplots.AxesSubplot at 0x1d8a0313b00>"
      ]
     },
     "execution_count": 43,
     "metadata": {},
     "output_type": "execute_result"
    },
    {
     "data": {
      "image/png": "[encoded data removed]",
      "text/plain": [
       "<Figure size 432x288 with 1 Axes>"
      ]
     },
     "metadata": {
      "needs_background": "light"
     },
     "output_type": "display_data"
    }
   ],
   "source": [
    " # 数据正态性考察\n",
    "ccss.index1.plot.hist()"
   ]
  },
  {
   "cell_type": "code",
   "execution_count": 44,
   "metadata": {},
   "outputs": [
    {
     "data": {
      "text/plain": [
       "<matplotlib.axes._subplots.AxesSubplot at 0x1d8a02cba58>"
      ]
     },
     "execution_count": 44,
     "metadata": {},
     "output_type": "execute_result"
    },
    {
     "data": {
      "image/png": "[encoded data removed]",
      "text/plain": [
       "<Figure size 432x288 with 1 Axes>"
      ]
     },
     "metadata": {
      "needs_background": "light"
     },
     "output_type": "display_data"
    }
   ],
   "source": [
    "ccss.index1.plot.hist(bins = 18)"
   ]
  },
  {
   "cell_type": "code",
   "execution_count": 45,
   "metadata": {
    "scrolled": false
   },
   "outputs": [
    {
     "data": {
      "text/plain": [
       "<matplotlib.axes._subplots.AxesSubplot at 0x1d8a05dc860>"
      ]
     },
     "execution_count": 45,
     "metadata": {},
     "output_type": "execute_result"
    },
    {
     "data": {
      "image/png": "[encoded data removed]",
      "text/plain": [
       "<Figure size 432x288 with 1 Axes>"
      ]
     },
     "metadata": {
      "needs_background": "light"
     },
     "output_type": "display_data"
    }
   ],
   "source": [
    "ccss.index1.plot.box()"
   ]
  },
  {
   "cell_type": "code",
   "execution_count": 46,
   "metadata": {},
   "outputs": [
    {
     "data": {
      "text/plain": [
       "KstestResult(statistic=0.999128160418483, pvalue=0.0)"
      ]
     },
     "execution_count": 46,
     "metadata": {},
     "output_type": "execute_result"
    }
   ],
   "source": [
    "# 假设检验考察正态性\n",
    "ss.kstest(ccss.index1,\"norm\")"
   ]
  },
  {
   "cell_type": "code",
   "execution_count": 47,
   "metadata": {},
   "outputs": [
    {
     "data": {
      "text/plain": [
       "time\n",
       "200704                   (1.0, 0.0)\n",
       "200712    (0.9967105263157895, 0.0)\n",
       "200812                   (1.0, 0.0)\n",
       "200912                   (1.0, 0.0)\n",
       "Name: index1, dtype: object"
      ]
     },
     "execution_count": 47,
     "metadata": {},
     "output_type": "execute_result"
    }
   ],
   "source": [
    "ks = lambda x : ss.kstest(x,\"norm\")\n",
    "ccss.groupby(\"time\").index1.apply(ks)"
   ]
  },
  {
   "cell_type": "code",
   "execution_count": 48,
   "metadata": {},
   "outputs": [
    {
     "data": {
      "text/plain": [
       "time\n",
       "200704    (0.966885507106781, 2.2581652956432663e-06)\n",
       "200712    (0.9562033414840698, 6.699920618302713e-08)\n",
       "200812    (0.9770516753196716, 8.659828745294362e-05)\n",
       "200912    (0.9523671865463257, 4.465105973849859e-07)\n",
       "Name: index1, dtype: object"
      ]
     },
     "execution_count": 48,
     "metadata": {},
     "output_type": "execute_result"
    }
   ],
   "source": [
    "ccss.groupby(\"time\").index1.apply(ss.shapiro)"
   ]
  },
  {
   "cell_type": "code",
   "execution_count": 50,
   "metadata": {},
   "outputs": [
    {
     "data": {
      "text/plain": [
       "time\n",
       "200704    AxesSubplot(0.125,0.125;0.775x0.755)\n",
       "200712    AxesSubplot(0.125,0.125;0.775x0.755)\n",
       "200812    AxesSubplot(0.125,0.125;0.775x0.755)\n",
       "200912    AxesSubplot(0.125,0.125;0.775x0.755)\n",
       "Name: index1, dtype: object"
      ]
     },
     "execution_count": 50,
     "metadata": {},
     "output_type": "execute_result"
    },
    {
     "data": {
      "image/png": "[encoded data removed]",
      "text/plain": [
       "<Figure size 432x288 with 1 Axes>"
      ]
     },
     "metadata": {
      "needs_background": "light"
     },
     "output_type": "display_data"
    }
   ],
   "source": [
    "# 方差齐性\n",
    "ccss.groupby(\"time\").index1.plot.hist()"
   ]
  },
  {
   "cell_type": "code",
   "execution_count": 51,
   "metadata": {},
   "outputs": [
    {
     "data": {
      "text/plain": [
       "array([[<matplotlib.axes._subplots.AxesSubplot object at 0x000001D8A085C7B8>,\n",
       "        <matplotlib.axes._subplots.AxesSubplot object at 0x000001D8A08F71D0>],\n",
       "       [<matplotlib.axes._subplots.AxesSubplot object at 0x000001D8A0924748>,\n",
       "        <matplotlib.axes._subplots.AxesSubplot object at 0x000001D8A0953CC0>]],\n",
       "      dtype=object)"
      ]
     },
     "execution_count": 51,
     "metadata": {},
     "output_type": "execute_result"
    },
    {
     "data": {
      "image/png": "[encoded data removed]",
      "text/plain": [
       "<Figure size 432x288 with 4 Axes>"
      ]
     },
     "metadata": {
      "needs_background": "light"
     },
     "output_type": "display_data"
    }
   ],
   "source": [
    "ccss.index1.hist(by = ccss.time)"
   ]
  },
  {
   "cell_type": "code",
   "execution_count": 53,
   "metadata": {},
   "outputs": [
    {
     "data": {
      "text/plain": [
       "<matplotlib.axes._subplots.AxesSubplot at 0x1d8a0e0e4a8>"
      ]
     },
     "execution_count": 53,
     "metadata": {},
     "output_type": "execute_result"
    },
    {
     "data": {
      "image/png": "[encoded data removed]",
      "text/plain": [
       "<Figure size 432x288 with 1 Axes>"
      ]
     },
     "metadata": {
      "needs_background": "light"
     },
     "output_type": "display_data"
    }
   ],
   "source": [
    "ccss.boxplot(column = \"index1\",by = \"time\")"
   ]
  },
  {
   "cell_type": "code",
   "execution_count": 54,
   "metadata": {
    "scrolled": false
   },
   "outputs": [
    {
     "data": {
      "text/plain": [
       "200704         AxesSubplot(0.1,0.559091;0.363636x0.340909)\n",
       "200712    AxesSubplot(0.536364,0.559091;0.363636x0.340909)\n",
       "200812             AxesSubplot(0.1,0.15;0.363636x0.340909)\n",
       "200912        AxesSubplot(0.536364,0.15;0.363636x0.340909)\n",
       "dtype: object"
      ]
     },
     "execution_count": 54,
     "metadata": {},
     "output_type": "execute_result"
    },
    {
     "data": {
      "image/png": "[encoded data removed]",
      "text/plain": [
       "<Figure size 432x288 with 4 Axes>"
      ]
     },
     "metadata": {
      "needs_background": "light"
     },
     "output_type": "display_data"
    }
   ],
   "source": [
    "ccss.groupby(\"time\").boxplot(column = \"index1\")"
   ]
  },
  {
   "cell_type": "code",
   "execution_count": 63,
   "metadata": {},
   "outputs": [
    {
     "data": {
      "text/plain": [
       "BartlettResult(statistic=11.123818483344097, pvalue=0.011074841431975263)"
      ]
     },
     "execution_count": 63,
     "metadata": {},
     "output_type": "execute_result"
    }
   ],
   "source": [
    "ss.bartlett(\n",
    "    ccss.index1[ccss.time == 200704],\n",
    "    ccss.index1[ccss.time == 200712],\n",
    "    ccss.index1[ccss.time == 200812],\n",
    "    ccss.index1[ccss.time == 200912]\n",
    ")"
   ]
  },
  {
   "cell_type": "code",
   "execution_count": 62,
   "metadata": {},
   "outputs": [
    {
     "data": {
      "text/plain": [
       "LeveneResult(statistic=2.2068913639343792, pvalue=0.08563270755698366)"
      ]
     },
     "execution_count": 62,
     "metadata": {},
     "output_type": "execute_result"
    }
   ],
   "source": [
    "ss.levene(\n",
    "    ccss.index1[ccss.time == 200704],\n",
    "    ccss.index1[ccss.time == 200712],\n",
    "    ccss.index1[ccss.time == 200812],\n",
    "    ccss.index1[ccss.time == 200912]\n",
    ")"
   ]
  },
  {
   "cell_type": "code",
   "execution_count": 64,
   "metadata": {},
   "outputs": [
    {
     "data": {
      "text/html": [
       "<div>\n",
       "<style scoped>\n",
       "    .dataframe tbody tr th:only-of-type {\n",
       "        vertical-align: middle;\n",
       "    }\n",
       "\n",
       "    .dataframe tbody tr th {\n",
       "        vertical-align: top;\n",
       "    }\n",
       "\n",
       "    .dataframe thead th {\n",
       "        text-align: right;\n",
       "    }\n",
       "</style>\n",
       "<table border=\"1\" class=\"dataframe\">\n",
       "  <thead>\n",
       "    <tr style=\"text-align: right;\">\n",
       "      <th></th>\n",
       "      <th>count</th>\n",
       "      <th>mean</th>\n",
       "      <th>std</th>\n",
       "      <th>min</th>\n",
       "      <th>25%</th>\n",
       "      <th>50%</th>\n",
       "      <th>75%</th>\n",
       "      <th>max</th>\n",
       "    </tr>\n",
       "    <tr>\n",
       "      <th>time</th>\n",
       "      <th></th>\n",
       "      <th></th>\n",
       "      <th></th>\n",
       "      <th></th>\n",
       "      <th></th>\n",
       "      <th></th>\n",
       "      <th></th>\n",
       "      <th></th>\n",
       "    </tr>\n",
       "  </thead>\n",
       "  <tbody>\n",
       "    <tr>\n",
       "      <th>200704</th>\n",
       "      <td>100.0</td>\n",
       "      <td>100.054675</td>\n",
       "      <td>17.223412</td>\n",
       "      <td>54.674686</td>\n",
       "      <td>85.917363</td>\n",
       "      <td>101.538702</td>\n",
       "      <td>109.349371</td>\n",
       "      <td>140.592049</td>\n",
       "    </tr>\n",
       "    <tr>\n",
       "      <th>200712</th>\n",
       "      <td>101.0</td>\n",
       "      <td>97.130700</td>\n",
       "      <td>19.398654</td>\n",
       "      <td>46.864016</td>\n",
       "      <td>85.917363</td>\n",
       "      <td>93.728032</td>\n",
       "      <td>109.349371</td>\n",
       "      <td>148.402718</td>\n",
       "    </tr>\n",
       "    <tr>\n",
       "      <th>200812</th>\n",
       "      <td>102.0</td>\n",
       "      <td>91.966803</td>\n",
       "      <td>19.504446</td>\n",
       "      <td>39.053347</td>\n",
       "      <td>78.106694</td>\n",
       "      <td>93.728032</td>\n",
       "      <td>101.538702</td>\n",
       "      <td>148.402718</td>\n",
       "    </tr>\n",
       "    <tr>\n",
       "      <th>200912</th>\n",
       "      <td>75.0</td>\n",
       "      <td>102.580124</td>\n",
       "      <td>16.954212</td>\n",
       "      <td>70.296024</td>\n",
       "      <td>89.822698</td>\n",
       "      <td>101.538702</td>\n",
       "      <td>109.349371</td>\n",
       "      <td>148.402718</td>\n",
       "    </tr>\n",
       "  </tbody>\n",
       "</table>\n",
       "</div>"
      ],
      "text/plain": [
       "        count        mean        std        min        25%         50%  \\\n",
       "time                                                                     \n",
       "200704  100.0  100.054675  17.223412  54.674686  85.917363  101.538702   \n",
       "200712  101.0   97.130700  19.398654  46.864016  85.917363   93.728032   \n",
       "200812  102.0   91.966803  19.504446  39.053347  78.106694   93.728032   \n",
       "200912   75.0  102.580124  16.954212  70.296024  89.822698  101.538702   \n",
       "\n",
       "               75%         max  \n",
       "time                            \n",
       "200704  109.349371  140.592049  \n",
       "200712  109.349371  148.402718  \n",
       "200812  101.538702  148.402718  \n",
       "200912  109.349371  148.402718  "
      ]
     },
     "execution_count": 64,
     "metadata": {},
     "output_type": "execute_result"
    }
   ],
   "source": [
    "ccss.query(\"s0 == '北京'\").groupby(\"time\").index1.describe()"
   ]
  },
  {
   "cell_type": "code",
   "execution_count": 65,
   "metadata": {},
   "outputs": [
    {
     "data": {
      "text/plain": [
       "<matplotlib.axes._subplots.AxesSubplot at 0x1d8a118f9b0>"
      ]
     },
     "execution_count": 65,
     "metadata": {},
     "output_type": "execute_result"
    },
    {
     "data": {
      "image/png": "[encoded data removed]",
      "text/plain": [
       "<Figure size 432x288 with 1 Axes>"
      ]
     },
     "metadata": {
      "needs_background": "light"
     },
     "output_type": "display_data"
    }
   ],
   "source": [
    "ccss.query(\"s0 == '北京'\").groupby(\"time\").index1.mean().plot()"
   ]
  },
  {
   "cell_type": "code",
   "execution_count": 66,
   "metadata": {},
   "outputs": [
    {
     "data": {
      "text/plain": [
       "<matplotlib.axes._subplots.AxesSubplot at 0x1d8a1203e48>"
      ]
     },
     "execution_count": 66,
     "metadata": {},
     "output_type": "execute_result"
    },
    {
     "data": {
      "image/png": "[encoded data removed]",
      "text/plain": [
       "<Figure size 432x288 with 1 Axes>"
      ]
     },
     "metadata": {
      "needs_background": "light"
     },
     "output_type": "display_data"
    }
   ],
   "source": [
    "ccss[ccss.s0 == '北京'].boxplot(\"index1\",\"time\")"
   ]
  },
  {
   "cell_type": "code",
   "execution_count": 67,
   "metadata": {},
   "outputs": [
    {
     "data": {
      "text/plain": [
       "LeveneResult(statistic=0.44332330387152036, pvalue=0.7221678627997157)"
      ]
     },
     "execution_count": 67,
     "metadata": {},
     "output_type": "execute_result"
    }
   ],
   "source": [
    "a = ccss.query(\"s0 == '北京' & time == '200704' \").index1\n",
    "b = ccss.query(\"s0 == '北京' & time == '200712' \").index1\n",
    "c = ccss.query(\"s0 == '北京' & time == '200812' \").index1\n",
    "d = ccss.query(\"s0 == '北京' & time == '200912' \").index1\n",
    "\n",
    "ss.levene(a,b,c,d)"
   ]
  },
  {
   "cell_type": "code",
   "execution_count": 68,
   "metadata": {},
   "outputs": [
    {
     "data": {
      "text/plain": [
       "F_onewayResult(statistic=5.630155391280303, pvalue=0.0008777240313291846)"
      ]
     },
     "execution_count": 68,
     "metadata": {},
     "output_type": "execute_result"
    }
   ],
   "source": [
    "ss.f_oneway(a,b,c,d)"
   ]
  },
  {
   "cell_type": "code",
   "execution_count": 72,
   "metadata": {
    "scrolled": false
   },
   "outputs": [
    {
     "data": {
      "text/html": [
       "<div>\n",
       "<style scoped>\n",
       "    .dataframe tbody tr th:only-of-type {\n",
       "        vertical-align: middle;\n",
       "    }\n",
       "\n",
       "    .dataframe tbody tr th {\n",
       "        vertical-align: top;\n",
       "    }\n",
       "\n",
       "    .dataframe thead th {\n",
       "        text-align: right;\n",
       "    }\n",
       "</style>\n",
       "<table border=\"1\" class=\"dataframe\">\n",
       "  <thead>\n",
       "    <tr style=\"text-align: right;\">\n",
       "      <th></th>\n",
       "      <th>sum_sq</th>\n",
       "      <th>df</th>\n",
       "      <th>F</th>\n",
       "      <th>PR(&gt;F)</th>\n",
       "    </tr>\n",
       "  </thead>\n",
       "  <tbody>\n",
       "    <tr>\n",
       "      <th>Intercept</th>\n",
       "      <td>1.001094e+06</td>\n",
       "      <td>1.0</td>\n",
       "      <td>2955.259790</td>\n",
       "      <td>1.227203e-179</td>\n",
       "    </tr>\n",
       "    <tr>\n",
       "      <th>time</th>\n",
       "      <td>5.721643e+03</td>\n",
       "      <td>3.0</td>\n",
       "      <td>5.630155</td>\n",
       "      <td>8.777240e-04</td>\n",
       "    </tr>\n",
       "    <tr>\n",
       "      <th>Residual</th>\n",
       "      <td>1.266924e+05</td>\n",
       "      <td>374.0</td>\n",
       "      <td>NaN</td>\n",
       "      <td>NaN</td>\n",
       "    </tr>\n",
       "  </tbody>\n",
       "</table>\n",
       "</div>"
      ],
      "text/plain": [
       "                 sum_sq     df            F         PR(>F)\n",
       "Intercept  1.001094e+06    1.0  2955.259790  1.227203e-179\n",
       "time       5.721643e+03    3.0     5.630155   8.777240e-04\n",
       "Residual   1.266924e+05  374.0          NaN            NaN"
      ]
     },
     "execution_count": 72,
     "metadata": {},
     "output_type": "execute_result"
    }
   ],
   "source": [
    "import statsmodels.api as sm\n",
    "from statsmodels.formula.api import ols\n",
    "\n",
    "ccss.time = ccss.time.astype(\"str\")\n",
    "# 因变量index1 自变量 time\n",
    "model = ols(\"index1 ~ time\",data = ccss.loc[ccss.s0 == '北京',:]).fit()\n",
    "# 一般线性模型 默认3\n",
    "restable = sm.stats.anova_lm(model,typ = 3)\n",
    "restable"
   ]
  },
  {
   "cell_type": "code",
   "execution_count": 75,
   "metadata": {},
   "outputs": [
    {
     "data": {
      "text/plain": [
       "(array([False, False, False]),\n",
       " array([0.3, 0.6, 0.9]),\n",
       " 0.016952427508441503,\n",
       " 0.016666666666666666)"
      ]
     },
     "execution_count": 75,
     "metadata": {},
     "output_type": "execute_result"
    }
   ],
   "source": [
    "# 两两比较的方法\n",
    "from statsmodels.sandbox.stats import multicomp as mc\n",
    "\n",
    "mc.multipletests([0.1,0.2,0.3],method = 'b')"
   ]
  },
  {
   "cell_type": "code",
   "execution_count": 79,
   "metadata": {},
   "outputs": [],
   "source": [
    "poshoc = mc.MultiComparison(ccss.index1,ccss.time)\n",
    "res = poshoc.tukeyhsd()"
   ]
  },
  {
   "cell_type": "code",
   "execution_count": 80,
   "metadata": {},
   "outputs": [
    {
     "data": {
      "text/plain": [
       "<statsmodels.sandbox.stats.multicomp.TukeyHSDResults at 0x1d8a2d3fbe0>"
      ]
     },
     "execution_count": 80,
     "metadata": {},
     "output_type": "execute_result"
    }
   ],
   "source": [
    "res"
   ]
  },
  {
   "cell_type": "code",
   "execution_count": 81,
   "metadata": {},
   "outputs": [
    {
     "data": {
      "text/html": [
       "<table class=\"simpletable\">\n",
       "<caption>Multiple Comparison of Means - Tukey HSD, FWER=0.05</caption>\n",
       "<tr>\n",
       "  <th>group1</th> <th>group2</th> <th>meandiff</th>  <th>p-adj</th>   <th>lower</th>   <th>upper</th>  <th>reject</th>\n",
       "</tr>\n",
       "<tr>\n",
       "  <td>200704</td> <td>200712</td>  <td>-4.1972</td> <td>0.0597</td>  <td>-8.5083</td> <td>0.1139</td>   <td>False</td>\n",
       "</tr>\n",
       "<tr>\n",
       "  <td>200704</td> <td>200812</td>  <td>-7.897</td>   <td>0.001</td> <td>-12.2081</td> <td>-3.5859</td>  <td>True</td> \n",
       "</tr>\n",
       "<tr>\n",
       "  <td>200704</td> <td>200912</td>  <td>3.6599</td>  <td>0.1706</td>  <td>-0.9332</td>  <td>8.253</td>   <td>False</td>\n",
       "</tr>\n",
       "<tr>\n",
       "  <td>200712</td> <td>200812</td>  <td>-3.6998</td> <td>0.1198</td>  <td>-7.9966</td>  <td>0.597</td>   <td>False</td>\n",
       "</tr>\n",
       "<tr>\n",
       "  <td>200712</td> <td>200912</td>  <td>7.8571</td>   <td>0.001</td>  <td>3.2774</td>  <td>12.4368</td>  <td>True</td> \n",
       "</tr>\n",
       "<tr>\n",
       "  <td>200812</td> <td>200912</td>  <td>11.5569</td>  <td>0.001</td>  <td>6.9772</td>  <td>16.1366</td>  <td>True</td> \n",
       "</tr>\n",
       "</table>"
      ],
      "text/plain": [
       "<class 'statsmodels.iolib.table.SimpleTable'>"
      ]
     },
     "execution_count": 81,
     "metadata": {},
     "output_type": "execute_result"
    }
   ],
   "source": [
    "res.summary()"
   ]
  },
  {
   "cell_type": "code",
   "execution_count": 82,
   "metadata": {},
   "outputs": [
    {
     "data": {
      "text/html": [
       "<div>\n",
       "<style scoped>\n",
       "    .dataframe tbody tr th:only-of-type {\n",
       "        vertical-align: middle;\n",
       "    }\n",
       "\n",
       "    .dataframe tbody tr th {\n",
       "        vertical-align: top;\n",
       "    }\n",
       "\n",
       "    .dataframe thead th {\n",
       "        text-align: right;\n",
       "    }\n",
       "</style>\n",
       "<table border=\"1\" class=\"dataframe\">\n",
       "  <thead>\n",
       "    <tr style=\"text-align: right;\">\n",
       "      <th></th>\n",
       "      <th>200704</th>\n",
       "      <th>200712</th>\n",
       "      <th>200812</th>\n",
       "      <th>200912</th>\n",
       "    </tr>\n",
       "  </thead>\n",
       "  <tbody>\n",
       "    <tr>\n",
       "      <th>200704</th>\n",
       "      <td>-1.000000</td>\n",
       "      <td>0.144102</td>\n",
       "      <td>2.043272e-06</td>\n",
       "      <td>1.000000e+00</td>\n",
       "    </tr>\n",
       "    <tr>\n",
       "      <th>200712</th>\n",
       "      <td>0.144102</td>\n",
       "      <td>-1.000000</td>\n",
       "      <td>2.434703e-02</td>\n",
       "      <td>1.211434e-02</td>\n",
       "    </tr>\n",
       "    <tr>\n",
       "      <th>200812</th>\n",
       "      <td>0.000002</td>\n",
       "      <td>0.024347</td>\n",
       "      <td>-1.000000e+00</td>\n",
       "      <td>5.260855e-08</td>\n",
       "    </tr>\n",
       "    <tr>\n",
       "      <th>200912</th>\n",
       "      <td>1.000000</td>\n",
       "      <td>0.012114</td>\n",
       "      <td>5.260855e-08</td>\n",
       "      <td>-1.000000e+00</td>\n",
       "    </tr>\n",
       "  </tbody>\n",
       "</table>\n",
       "</div>"
      ],
      "text/plain": [
       "          200704    200712        200812        200912\n",
       "200704 -1.000000  0.144102  2.043272e-06  1.000000e+00\n",
       "200712  0.144102 -1.000000  2.434703e-02  1.211434e-02\n",
       "200812  0.000002  0.024347 -1.000000e+00  5.260855e-08\n",
       "200912  1.000000  0.012114  5.260855e-08 -1.000000e+00"
      ]
     },
     "execution_count": 82,
     "metadata": {},
     "output_type": "execute_result"
    }
   ],
   "source": [
    "import scikit_posthocs as sp\n",
    "pc = sp.posthoc_conover(ccss,val_col = \"index1\",group_col = \"time\",p_adjust = \"bonferroni\")\n",
    "pc"
   ]
  },
  {
   "cell_type": "code",
   "execution_count": 83,
   "metadata": {},
   "outputs": [
    {
     "data": {
      "text/plain": [
       "(<matplotlib.axes._subplots.AxesSubplot at 0x1d8a2e9c6d8>,\n",
       " <matplotlib.colorbar.ColorbarBase at 0x1d8a2eea2e8>)"
      ]
     },
     "execution_count": 83,
     "metadata": {},
     "output_type": "execute_result"
    },
    {
     "data": {
      "image/png": "[encoded data removed]",
      "text/plain": [
       "<Figure size 432x288 with 2 Axes>"
      ]
     },
     "metadata": {
      "needs_background": "light"
     },
     "output_type": "display_data"
    }
   ],
   "source": [
    "heatmap_args = {\"linewidths\":0.25,\"linecolor\":\"0.5\",\"clip_on\":False,\"square\":True,\"cbar_ax_bbox\":[0.80,0.35,0.04,0.3]}\n",
    "sp.sign_plot(pc,**heatmap_args)"
   ]
  },
  {
   "cell_type": "code",
   "execution_count": null,
   "metadata": {},
   "outputs": [],
   "source": []
  }
 ],
 "metadata": {
  "kernelspec": {
   "display_name": "Python 3",
   "language": "python",
   "name": "python3"
  },
  "language_info": {
   "codemirror_mode": {
    "name": "ipython",
    "version": 3
   },
   "file_extension": ".py",
   "mimetype": "text/x-python",
   "name": "python",
   "nbconvert_exporter": "python",
   "pygments_lexer": "ipython3",
   "version": "3.7.0"
  }
 },
 "nbformat": 4,
 "nbformat_minor": 2
}
